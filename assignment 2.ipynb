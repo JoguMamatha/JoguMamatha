{
 "cells": [
  {
   "cell_type": "code",
   "execution_count": 1,
   "id": "61441f9d",
   "metadata": {},
   "outputs": [
    {
     "name": "stdout",
     "output_type": "stream",
     "text": [
      "enter the value : 3\n",
      "enter the value : 6\n",
      "multiplication =  18 \n",
      " division =  0.5\n"
     ]
    }
   ],
   "source": [
    "#1 Write a program to accept two numbers from the user and calculate multiplication, division\n",
    "\n",
    "num1=int(input(\"enter the value : \"))\n",
    "num2=int(input(\"enter the value : \"))\n",
    "print(\"multiplication = \",num1*num2 , \"\\n\",\"division = \", num1/num2)"
   ]
  },
  {
   "cell_type": "code",
   "execution_count": 2,
   "id": "8f94c785",
   "metadata": {},
   "outputs": [
    {
     "name": "stdout",
     "output_type": "stream",
     "text": [
      "Enter a String: Radha\n",
      "Rda\n"
     ]
    }
   ],
   "source": [
    "#2 Write a python program to print the characters from a string that are present at an even index\n",
    "x=input(\"Enter a String: \")\n",
    "a=\"\"\n",
    "for y in range(0,len(x)):\n",
    "    if y%2==0:\n",
    "        a+=x[y]\n",
    "    else:\n",
    "        continue\n",
    "print(a)"
   ]
  },
  {
   "cell_type": "code",
   "execution_count": 3,
   "id": "d138ccdc",
   "metadata": {},
   "outputs": [
    {
     "name": "stdout",
     "output_type": "stream",
     "text": [
      "Enter a String: Radha\n",
      "ah\n"
     ]
    }
   ],
   "source": [
    "#2 Write a python program to print the characters from a string that are present at an odd index\n",
    "x=input(\"Enter a String: \")\n",
    "a=\"\"\n",
    "for y in range(0,len(x)):\n",
    "    if y%2!=0:\n",
    "        a+=x[y]\n",
    "    else:\n",
    "        continue\n",
    "print(a)"
   ]
  },
  {
   "cell_type": "code",
   "execution_count": 12,
   "id": "080a785e",
   "metadata": {},
   "outputs": [
    {
     "name": "stdout",
     "output_type": "stream",
     "text": [
      "enter the first number : 6\n",
      "enter the second number: 5\n",
      "sub= 1\n"
     ]
    }
   ],
   "source": [
    "#4 Write a python program which will print the sum of the two numbers if the two numbers are even or \n",
    "#it will print the difference of two numbers\n",
    "\n",
    "num1=int(input(\"enter the first number : \"))\n",
    "num2=int(input(\"enter the second number: \"))\n",
    "if num1%2==0 and num2%2==0:\n",
    "     print(\"sum=\",num1+num2)\n",
    "else:\n",
    "    print(\"sub=\",num1-num2)"
   ]
  },
  {
   "cell_type": "code",
   "execution_count": 13,
   "id": "84bebba5",
   "metadata": {},
   "outputs": [
    {
     "name": "stdout",
     "output_type": "stream",
     "text": [
      "enter a word to convert : KriSHna\n",
      "KrIsHnA\n"
     ]
    }
   ],
   "source": [
    "#5 Write a python program to convert all even indexed alphabets to upper and odd indexed char\n",
    "\n",
    "a=input(\"enter a word to convert : \")\n",
    "y=list(a)\n",
    "b=\"\"\n",
    "for x in range(0,len(a)):\n",
    "    if x%2==0:\n",
    "        b+=str(a[x]).upper()\n",
    "    else :\n",
    "            b+=str(a[x]).lower()\n",
    "print (b)       "
   ]
  },
  {
   "cell_type": "code",
   "execution_count": 14,
   "id": "888790dd",
   "metadata": {},
   "outputs": [
    {
     "name": "stdout",
     "output_type": "stream",
     "text": [
      "enter the number : 25\n",
      "True\n"
     ]
    }
   ],
   "source": [
    "#6 Write a python program which will print True if the input number is divisible by 5 or else False\n",
    "x=int(input(\"enter the number : \"))\n",
    "if x%5==0:\n",
    "    print(True)\n",
    "else:\n",
    "    print(False)"
   ]
  },
  {
   "cell_type": "code",
   "execution_count": 17,
   "id": "4703ac7a",
   "metadata": {},
   "outputs": [
    {
     "name": "stdout",
     "output_type": "stream",
     "text": [
      "enter the number : 60\n",
      "enter the number : 100\n",
      "6000\n"
     ]
    }
   ],
   "source": [
    "#7 Given two integer numbers return their product only if the product is greater than 1000, else return their sum\n",
    "num1=int(input(\"enter the number : \"))\n",
    "num2=int(input(\"enter the number : \"))\n",
    "product=num1*num2\n",
    "if product > 1000:\n",
    "    print(product)\n",
    "else:\n",
    "    print(\"sum = \",num1+num2)"
   ]
  },
  {
   "cell_type": "code",
   "execution_count": 20,
   "id": "7a8b74a0",
   "metadata": {},
   "outputs": [
    {
     "name": "stdout",
     "output_type": "stream",
     "text": [
      "Enter a string: Jogu\n",
      "Enter a string: Mamatha\n",
      "JMgaua\n"
     ]
    }
   ],
   "source": [
    "#8 Given two strings x, y writes a program to return a new string made of x and y’s first, middle, and last character\n",
    "#Example:Input X=” pytho” Y=” javas”\n",
    "#Output ” pjtvos”\n",
    "x=input(\"Enter a string: \")\n",
    "y=input(\"Enter a string: \")\n",
    "a=len(x)//2\n",
    "b=len(y)//2\n",
    "print(x[0]+y[0]+x[a]+y[b]+x[-1]+y[-1])"
   ]
  },
  {
   "cell_type": "code",
   "execution_count": 22,
   "id": "cd8a6ed7",
   "metadata": {},
   "outputs": [
    {
     "name": "stdout",
     "output_type": "stream",
     "text": [
      "enter 3 names : radha radha krishna\n",
      "name1:- radha \n",
      "name2:- radha \n",
      "name3:- krishna\n"
     ]
    }
   ],
   "source": [
    "#9 Write a python program to take three names as input from a user in the single input () function call\n",
    "n=input(\"enter 3 names : \")\n",
    "for y in range(0,3):\n",
    "    z=n.split(\" \")\n",
    "print(\"name1:-\",z[0],\"\\nname2:-\",z[1],\"\\nname3:-\",z[2])"
   ]
  },
  {
   "cell_type": "code",
   "execution_count": 23,
   "id": "9681de1b",
   "metadata": {},
   "outputs": [
    {
     "name": "stdout",
     "output_type": "stream",
     "text": [
      "enter a String: Preethi\n",
      "Preethi\n"
     ]
    }
   ],
   "source": [
    "#10 Write a Python program to get a string from a given string \n",
    "#where all occurrences of its first char have been changed to '@', except the first char itself.\n",
    "\n",
    "x=input(\"enter a String: \")\n",
    "a=x[0]\n",
    "for y in range(1,len(x)):\n",
    "    if x[y]==x[0]:\n",
    "        a+=\"@\"\n",
    "    else:\n",
    "        a+=x[y]\n",
    "print(a)"
   ]
  },
  {
   "cell_type": "code",
   "execution_count": 24,
   "id": "6394a378",
   "metadata": {},
   "outputs": [
    {
     "name": "stdout",
     "output_type": "stream",
     "text": [
      "enter a string : hav\n",
      "having\n"
     ]
    }
   ],
   "source": [
    "#11 Write a Python program to add 'ing' at the end of a given string (string length should be equal to or more than 3).\n",
    "#   If the given string already ends with 'ing' then add 'ly' instead. \n",
    "#   If the string length of the given string is less than 3, leave it unchanged\n",
    "\n",
    "\n",
    "x=input(\"enter a string : \")\n",
    "y=\" \"\n",
    "if len(x)>=3 and x.endswith(\"ing\"):\n",
    "    a=x.strip(\"ing\")\n",
    "    y=a+\"ly\"\n",
    "\n",
    "elif len(x)<3:\n",
    "    y=x\n",
    "else :\n",
    "    y=x+\"ing\"\n",
    "print(y)    "
   ]
  },
  {
   "cell_type": "code",
   "execution_count": 25,
   "id": "277451c8",
   "metadata": {},
   "outputs": [
    {
     "name": "stdout",
     "output_type": "stream",
     "text": [
      "enter the first number : 3\n",
      "enter the second number: 21\n",
      "False\n"
     ]
    }
   ],
   "source": [
    "#12 Write a python program that accepts two inputs num1 and num2 print True if one of them is 10 or if their sum is 10\n",
    "#otherwise print False\n",
    "\n",
    "num1=int(input(\"enter the first number : \"))\n",
    "num2=int(input(\"enter the second number: \"))\n",
    "if num1==10 or num2==10 or num1+num2==10:\n",
    "    print(True)\n",
    "else:\n",
    "    print(False)"
   ]
  },
  {
   "cell_type": "code",
   "execution_count": 26,
   "id": "06a00d6c",
   "metadata": {},
   "outputs": [
    {
     "name": "stdout",
     "output_type": "stream",
     "text": [
      "enter the first number : 3\n",
      "enter the second value : 4\n",
      "enter the third value :  6\n",
      "True\n",
      "enter the first number : 5\n",
      "enter the second value : 3\n",
      "enter the third value :  3\n",
      "True\n"
     ]
    }
   ],
   "source": [
    "#13 Write a python program that accepts three inputs x, y and z print True if x*y>z otherwise False\n",
    "\n",
    "a=0\n",
    "while a<=1:\n",
    "    x=int(input(\"enter the first number : \"))\n",
    "    y=int(input(\"enter the second value : \"))\n",
    "    z=int(input(\"enter the third value :  \"))\n",
    "    product=x*y\n",
    "    if product>z:\n",
    "        print(True)\n",
    "    else:\n",
    "        print(False)\n",
    "    a+=1"
   ]
  },
  {
   "cell_type": "code",
   "execution_count": 28,
   "id": "51dc858f",
   "metadata": {},
   "outputs": [
    {
     "name": "stdout",
     "output_type": "stream",
     "text": [
      "enter a string : crush\n",
      "enter a string : rush\n",
      "False\n",
      "enter a string : cargo\n",
      "enter a string : kargo\n",
      "True\n"
     ]
    }
   ],
   "source": [
    "#14 Write a python program that accepts two strings inputs return True depending on whether the total number of \n",
    "#characters in the first string is equal to the total number of characters in the second string\n",
    "\n",
    "n=0\n",
    "while n<=1:\n",
    "    \n",
    "    x=input(\"enter a string : \")\n",
    "    y=input(\"enter a string : \")\n",
    "    if len(x)==len(y):\n",
    "        print(True)\n",
    "    else:\n",
    "        print(False)\n",
    "    n+=1   "
   ]
  },
  {
   "cell_type": "code",
   "execution_count": 29,
   "id": "b5aee147",
   "metadata": {},
   "outputs": [
    {
     "name": "stdout",
     "output_type": "stream",
     "text": [
      "enter a string : hello welcome \n",
      "hello welcome \n",
      "enter a string : innomatics\n",
      "innomatics\n"
     ]
    }
   ],
   "source": [
    "#15 Write a python program that takes a string input, we'll say that the front is the first three characters of the string. \n",
    "#If the string length is less than three characters, the front is whatever is there. \n",
    "#Return a new string, which is three copies of the front\n",
    "\n",
    "\n",
    "a=0\n",
    "while a<=1:\n",
    "    x=input(\"enter a string : \")\n",
    "    if len(x)<3:\n",
    "        print(x*3)\n",
    "    else:\n",
    "        print(x)\n",
    "    a+=1    "
   ]
  },
  {
   "cell_type": "code",
   "execution_count": 30,
   "id": "5cfe5e53",
   "metadata": {},
   "outputs": [
    {
     "name": "stdout",
     "output_type": "stream",
     "text": [
      "enter a word : ping\n",
      "the word is not plural\n",
      "enter a word : pings\n",
      "the word is plural\n"
     ]
    }
   ],
   "source": [
    "#16 Write a python program that takes in a word and determines whether or not it is plural.\n",
    "#A plural word is one that ends in \"s\"\n",
    "\n",
    "\n",
    "a=0\n",
    "while a<=1:\n",
    "    x=input(\"enter a word : \")\n",
    "    if x.endswith(\"s\") or x.endswith(\"S\"):\n",
    "        print(\"the word is plural\")\n",
    "    else:\n",
    "        print(\"the word is not plural\")\n",
    "    a+=1   "
   ]
  },
  {
   "cell_type": "code",
   "execution_count": 31,
   "id": "e471b0bb",
   "metadata": {},
   "outputs": [
    {
     "name": "stdout",
     "output_type": "stream",
     "text": [
      "enter the age : 20\n",
      "Give true if it is break time else false:true\n",
      "serve the drink\n",
      "enter the age : 20\n",
      "Give true if it is break time else false:false\n",
      "do not serve the drink\n"
     ]
    }
   ],
   "source": [
    "#17 A bartender is writing a simple program to determine whether he should serve drinks to someone. \n",
    "#He only serves drinks to people 18 and older and when he's not on break(True means break and False means not a break time).\n",
    "#Given the person's age, and whether break time is in session, create a python program which prints whether he should serve drinks or not.\n",
    "\n",
    "\n",
    "a=0\n",
    "while a<=1:\n",
    "    x=int(input(\"enter the age : \"))\n",
    "    y=input(\"Give true if it is break time else false:\")\n",
    "    if x>=18 and y==\"true\":\n",
    "        print(\"serve the drink\")\n",
    "    else:\n",
    "        print(\"do not serve the drink\")\n",
    "    a+=1     "
   ]
  },
  {
   "cell_type": "code",
   "execution_count": 32,
   "id": "fcbe0300",
   "metadata": {},
   "outputs": [
    {
     "name": "stdout",
     "output_type": "stream",
     "text": [
      "enter person name:shiva\n",
      "shiva is your father\n"
     ]
    }
   ],
   "source": [
    "#18 Manoj Kumar has family and friends. Help him remind them who is who. Given a string with a name, return the relation of that person to Manoj Kumar.\n",
    "#Person Relation\n",
    "#Shiva father\n",
    "#Letha mother\n",
    "#Tarun brother\n",
    "#Kavitha sister\n",
    "\n",
    "\n",
    "person=\"shiva,letha,tarun,kavitha\"\n",
    "x=input(\"enter person name:\")\n",
    "if x==person[0:5]:\n",
    "    print(x,\"is your father\")\n",
    "elif x==person[6:11]:\n",
    "    print(x,\"is your mother\")\n",
    "elif x==person[12:16]:\n",
    "    print(x,\"is your brother\")\n",
    "else:\n",
    "    print(x,\"is your sister\")"
   ]
  },
  {
   "cell_type": "code",
   "execution_count": 33,
   "id": "f874430d",
   "metadata": {},
   "outputs": [
    {
     "name": "stdout",
     "output_type": "stream",
     "text": [
      "Enter a string: @Innomatics\n",
      "Vowels: Ioai\n",
      "Consonants: @nnmtcs\n"
     ]
    }
   ],
   "source": [
    "#19 Write a python program that takes a string, breaks it up and returns it with vowels first, consonants second. \n",
    "#For any character that's not a vowel (like special characters or spaces), treat them like consonants\n",
    "\n",
    "\n",
    "x=input(\"Enter a string: \")\n",
    "vow=\"\";con=\"\"\n",
    "for y in range(0,len(x)):\n",
    "    if x[y]==\"a\" or x[y]==\"e\" or x[y]==\"i\" or x[y]==\"o\" or x[y]==\"u\" or x[y]==\"A\" or x[y]==\"E\" or x[y]==\"I\" or x[y]==\"O\" or x[y]==\"U\":\n",
    "        vow+=x[y]\n",
    "    else:\n",
    "        con+=x[y]\n",
    "print(\"Vowels: \"+vow+\"\\nConsonants: \"+con)"
   ]
  }
 ],
 "metadata": {
  "kernelspec": {
   "display_name": "Python 3 (ipykernel)",
   "language": "python",
   "name": "python3"
  },
  "language_info": {
   "codemirror_mode": {
    "name": "ipython",
    "version": 3
   },
   "file_extension": ".py",
   "mimetype": "text/x-python",
   "name": "python",
   "nbconvert_exporter": "python",
   "pygments_lexer": "ipython3",
   "version": "3.10.9"
  }
 },
 "nbformat": 4,
 "nbformat_minor": 5
}
