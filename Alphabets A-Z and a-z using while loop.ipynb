{
 "cells": [
  {
   "cell_type": "markdown",
   "id": "8da3fb47",
   "metadata": {},
   "source": [
    "# python program to print lower & upper case alphabets with looping concepts"
   ]
  },
  {
   "cell_type": "code",
   "execution_count": 24,
   "id": "84554177",
   "metadata": {},
   "outputs": [
    {
     "name": "stdout",
     "output_type": "stream",
     "text": [
      "  * \n",
      "*   *\n",
      "* * * \n",
      "*   *\n",
      "*   *\n"
     ]
    }
   ],
   "source": [
    "x=0\n",
    "while x<5:\n",
    "    if x==0:\n",
    "        print(\"  * \")\n",
    "    elif x==1 or x==3 or x==4:\n",
    "        print(\"*   *\")\n",
    "    else:\n",
    "        print(\"* * * \")\n",
    "    x=x+1"
   ]
  },
  {
   "cell_type": "code",
   "execution_count": 30,
   "id": "b6712e4e",
   "metadata": {},
   "outputs": [
    {
     "name": "stdout",
     "output_type": "stream",
     "text": [
      "* * * \n",
      "*    *\n",
      "* * * \n",
      "*    *\n",
      "* * * \n"
     ]
    }
   ],
   "source": [
    "x=1\n",
    "while x<6:\n",
    "    if x==0:\n",
    "        print(\"*  *  *\")\n",
    "    elif x==2 or x==4 :\n",
    "        print(\"*    *\")\n",
    "    else:\n",
    "        print(\"* * * \")\n",
    "    x=x+1"
   ]
  },
  {
   "cell_type": "code",
   "execution_count": 2,
   "id": "d5988d57",
   "metadata": {},
   "outputs": [
    {
     "name": "stdout",
     "output_type": "stream",
     "text": [
      " ****\n",
      "*   \n",
      "*   \n",
      "*   \n",
      " ****\n"
     ]
    }
   ],
   "source": [
    "x=0\n",
    "while x<5:\n",
    "    if x==0 or x==4:\n",
    "        print(\" ****\")\n",
    "    else:\n",
    "        print(\"*   \")\n",
    "    x=x+1  "
   ]
  },
  {
   "cell_type": "code",
   "execution_count": 1,
   "id": "e89dbb82",
   "metadata": {},
   "outputs": [
    {
     "name": "stdout",
     "output_type": "stream",
     "text": [
      "* * * *\n",
      "*      *\n",
      "*       *\n",
      "*      *\n",
      "* * * *\n"
     ]
    }
   ],
   "source": [
    "x=0\n",
    "while x<5:\n",
    "    if x==2:\n",
    "        print(\"*       *\")\n",
    "    elif x==0 or x==4:\n",
    "        print(\"* * * *\")\n",
    "    else:\n",
    "        print(\"*      *\")\n",
    "    x=x+1"
   ]
  },
  {
   "cell_type": "code",
   "execution_count": 9,
   "id": "2c121c71",
   "metadata": {},
   "outputs": [
    {
     "name": "stdout",
     "output_type": "stream",
     "text": [
      "* * * *\n",
      "*    \n",
      "* * * *\n",
      "*    \n",
      "* * * *\n"
     ]
    }
   ],
   "source": [
    "x=0\n",
    "while x<5:\n",
    "    if x==2:\n",
    "        print(\"* * * *\")\n",
    "    elif x==0 or x==4:\n",
    "        print(\"* * * *\")\n",
    "    else:\n",
    "        print(\"*    \")\n",
    "    x=x+1"
   ]
  },
  {
   "cell_type": "code",
   "execution_count": 11,
   "id": "7acc321d",
   "metadata": {},
   "outputs": [
    {
     "name": "stdout",
     "output_type": "stream",
     "text": [
      "* * * * \n",
      "*    \n",
      "* * * * \n",
      "*    \n",
      "*\n"
     ]
    }
   ],
   "source": [
    "x=1\n",
    "while x<6:\n",
    "    if x==5:\n",
    "        print(\"*\")\n",
    "    elif x==1 or x==3:\n",
    "        print(\"* * * * \")\n",
    "    else:\n",
    "        print(\"*    \")\n",
    "    \n",
    "    x=x+1"
   ]
  },
  {
   "cell_type": "code",
   "execution_count": 50,
   "id": "4bb809a6",
   "metadata": {},
   "outputs": [
    {
     "name": "stdout",
     "output_type": "stream",
     "text": [
      " *** \n",
      "*    \n",
      "*       \n",
      "* ***\n",
      "*    *\n",
      "*    *\n",
      "  ***  \n"
     ]
    }
   ],
   "source": [
    "x=1\n",
    "while x<8:\n",
    "    if x==7:\n",
    "        print(\"  ***  \")\n",
    "    elif x==1 :\n",
    "        print(\" *** \")\n",
    "    elif x==2:\n",
    "        print(\"*    \")\n",
    "    elif x==3:\n",
    "        print(\"*       \")\n",
    "    elif x==5 or x==6:\n",
    "        print(\"*    *\")\n",
    "    else:\n",
    "        print(\"* ***\")\n",
    "    \n",
    "    x=x+1"
   ]
  },
  {
   "cell_type": "code",
   "execution_count": 29,
   "id": "7ca68a64",
   "metadata": {},
   "outputs": [
    {
     "name": "stdout",
     "output_type": "stream",
     "text": [
      "*    *\n",
      "*    *\n",
      "******\n",
      "*    *\n",
      "*    *\n"
     ]
    }
   ],
   "source": [
    "x=1\n",
    "while x<6:\n",
    "    if x==3:\n",
    "        print(\"******\")\n",
    "    else:\n",
    "        print(\"*    *\")\n",
    "    x=x+1\n",
    "    \n",
    "    "
   ]
  },
  {
   "cell_type": "code",
   "execution_count": 34,
   "id": "1a1c7c60",
   "metadata": {},
   "outputs": [
    {
     "name": "stdout",
     "output_type": "stream",
     "text": [
      "*****\n",
      "  *  \n",
      "  * \n",
      "*****\n"
     ]
    }
   ],
   "source": [
    "x=1\n",
    "while x<5:\n",
    "    if x==1 or x==4:\n",
    "        print(\"*****\")\n",
    "    elif x==2:\n",
    "        print(\"  *  \")\n",
    "    else:\n",
    "        print(\"  * \")\n",
    "    x=x+1"
   ]
  },
  {
   "cell_type": "code",
   "execution_count": 35,
   "id": "101bc56a",
   "metadata": {},
   "outputs": [
    {
     "name": "stdout",
     "output_type": "stream",
     "text": [
      "********\n",
      "    *   \n",
      "    *   \n",
      "    *   \n",
      "  * *   \n",
      "   **   \n"
     ]
    }
   ],
   "source": [
    "x=1\n",
    "while x<7:\n",
    "    if x==1:\n",
    "        print(\"********\")\n",
    "    elif x==2 or x==3 or x==4:\n",
    "        print(\"    *   \")\n",
    "    elif x==5:\n",
    "        print(\"  * *   \")\n",
    "    else:\n",
    "        print(\"   **   \")\n",
    "    x=x+1"
   ]
  },
  {
   "cell_type": "code",
   "execution_count": 36,
   "id": "3322addf",
   "metadata": {},
   "outputs": [
    {
     "name": "stdout",
     "output_type": "stream",
     "text": [
      "*        *\n",
      "*     *\n",
      "*   *\n",
      "**      \n",
      "*   *\n",
      "*     *\n",
      "*        *\n"
     ]
    }
   ],
   "source": [
    "x=1\n",
    "while x<8:\n",
    "    if x==1 or x==7:\n",
    "        print(\"*        *\")\n",
    "    elif x==2 or x==6:\n",
    "        print(\"*     *\")\n",
    "    elif x==3 or x==5:\n",
    "        print(\"*   *\")\n",
    "    else:\n",
    "        print(\"**      \")\n",
    "    x=x+1"
   ]
  },
  {
   "cell_type": "code",
   "execution_count": 38,
   "id": "df6db86e",
   "metadata": {},
   "outputs": [
    {
     "name": "stdout",
     "output_type": "stream",
     "text": [
      "*   \n",
      "*   \n",
      "*   \n",
      "******\n"
     ]
    }
   ],
   "source": [
    "x=1\n",
    "while x<5:\n",
    "    if x==1 or x==2 or x==3:\n",
    "        print(\"*   \")\n",
    "    else:\n",
    "        print(\"******\")\n",
    "    x=x+1\n",
    "    "
   ]
  },
  {
   "cell_type": "code",
   "execution_count": 49,
   "id": "517e746b",
   "metadata": {},
   "outputs": [
    {
     "name": "stdout",
     "output_type": "stream",
     "text": [
      "*         *\n",
      "*  *   *  *\n",
      "*    *    *\n",
      "*         *\n",
      "*         *\n",
      "*         *\n"
     ]
    }
   ],
   "source": [
    "x=1\n",
    "while x<7:\n",
    "    if x==1:\n",
    "        print(\"*         *\")\n",
    "    elif x==2:\n",
    "        print(\"*  *   *  *\")\n",
    "    elif x==4 or x==5 or x==6:\n",
    "        print(\"*         *\")\n",
    "    else:\n",
    "        print(\"*    *    *\")\n",
    "    x=x+1\n",
    "    "
   ]
  },
  {
   "cell_type": "code",
   "execution_count": 3,
   "id": "95340a66",
   "metadata": {},
   "outputs": [
    {
     "name": "stdout",
     "output_type": "stream",
     "text": [
      "         *\n",
      "*        *\n",
      "*        *\n",
      "*  *     *\n",
      "*    *   *\n",
      "*        *\n"
     ]
    }
   ],
   "source": [
    "x=1\n",
    "while x<7:\n",
    "    if x==1:\n",
    "        print(\"         *\")\n",
    "    elif x==2 or x==3:\n",
    "        print(\"*        *\")\n",
    "    elif x==4:\n",
    "        print(\"*  *     *\")\n",
    "    elif x==5:\n",
    "        print(\"*    *   *\")\n",
    "    else:\n",
    "        print(\"*        *\")\n",
    "    x=x+1"
   ]
  },
  {
   "cell_type": "code",
   "execution_count": 4,
   "id": "7bbe488e",
   "metadata": {},
   "outputs": [
    {
     "name": "stdout",
     "output_type": "stream",
     "text": [
      " * * * \n",
      "*     *\n",
      "*     *\n",
      "*     *\n",
      " * * * \n"
     ]
    }
   ],
   "source": [
    "x=0\n",
    "while x<5:\n",
    "    if x==0 or x==4:\n",
    "        print(\" * * * \")\n",
    "    else:\n",
    "        print(\"*     *\")\n",
    "    x=x+1  "
   ]
  },
  {
   "cell_type": "code",
   "execution_count": 5,
   "id": "6fe60e80",
   "metadata": {},
   "outputs": [
    {
     "name": "stdout",
     "output_type": "stream",
     "text": [
      "* * *\n",
      "*   *\n",
      "* * *\n",
      "* \n",
      "* \n"
     ]
    }
   ],
   "source": [
    "x=0\n",
    "while x<5:\n",
    "    if x==0  or x==2:\n",
    "        print(\"* * *\")\n",
    "    elif x==3 or x==4:\n",
    "        print(\"* \")\n",
    "    else:\n",
    "        print(\"*   *\")\n",
    "    x=x+1  "
   ]
  },
  {
   "cell_type": "code",
   "execution_count": 6,
   "id": "7a3816ab",
   "metadata": {},
   "outputs": [
    {
     "name": "stdout",
     "output_type": "stream",
     "text": [
      " * * *\n",
      "*     *\n",
      "*     *\n",
      "* **  *\n",
      " *  *  * *\n"
     ]
    }
   ],
   "source": [
    "x=0\n",
    "while x<5:\n",
    "    if x==0:\n",
    "        print(\" * * *\")\n",
    "    elif x==3:\n",
    "        print(\"* **  *\")\n",
    "    elif x==4:\n",
    "        print(\" *  *  * *\")\n",
    "    else:\n",
    "        print(\"*     *\")\n",
    "    x=x+1  "
   ]
  },
  {
   "cell_type": "code",
   "execution_count": 7,
   "id": "d6a3c2e3",
   "metadata": {},
   "outputs": [
    {
     "name": "stdout",
     "output_type": "stream",
     "text": [
      "* * *\n",
      "*   *\n",
      "* *\n",
      "*  *\n",
      "*   *\n"
     ]
    }
   ],
   "source": [
    "x=0\n",
    "while x<5:\n",
    "    if x==0:\n",
    "        print(\"* * *\")\n",
    "    elif x==3 :\n",
    "        print(\"*  *\")\n",
    "    elif x==1 or x==4:\n",
    "        print(\"*   *\")\n",
    "    else:\n",
    "        print(\"* *\")\n",
    "    x=x+1  "
   ]
  },
  {
   "cell_type": "code",
   "execution_count": 8,
   "id": "aee0a914",
   "metadata": {},
   "outputs": [
    {
     "name": "stdout",
     "output_type": "stream",
     "text": [
      "*  *  *\n",
      "*\n",
      "*  *  *\n",
      "      *\n",
      "*  *  *\n"
     ]
    }
   ],
   "source": [
    "x=1\n",
    "while x<6:\n",
    "    if x==1 or x==3 or x==5:\n",
    "        print(\"*  *  *\")\n",
    "    elif x==2:\n",
    "        print(\"*\")\n",
    "    else:\n",
    "        print(\"      *\")\n",
    "    x=x+1"
   ]
  },
  {
   "cell_type": "code",
   "execution_count": 9,
   "id": "8f7f0048",
   "metadata": {},
   "outputs": [
    {
     "name": "stdout",
     "output_type": "stream",
     "text": [
      "* * *\n",
      "  *\n",
      "  *\n",
      "  *\n",
      "  *\n"
     ]
    }
   ],
   "source": [
    "x=0\n",
    "while x<5:\n",
    "    if x==0:\n",
    "        print(\"* * *\")\n",
    "    else:\n",
    "        print(\"  *\")\n",
    "    x=x+1  "
   ]
  },
  {
   "cell_type": "code",
   "execution_count": 10,
   "id": "4a9b15cb",
   "metadata": {},
   "outputs": [
    {
     "name": "stdout",
     "output_type": "stream",
     "text": [
      "*     *\n",
      "*     *\n",
      "*     *\n",
      "*     *\n",
      " * * *\n"
     ]
    }
   ],
   "source": [
    "x=0\n",
    "while x<5:\n",
    "    if x==4:\n",
    "        print(\" * * *\")\n",
    "    else:\n",
    "        print(\"*     *\")\n",
    "    x=x+1"
   ]
  },
  {
   "cell_type": "code",
   "execution_count": 46,
   "id": "6d8c0c0e",
   "metadata": {},
   "outputs": [
    {
     "name": "stdout",
     "output_type": "stream",
     "text": [
      "*   *\n",
      " * *\n",
      "  *\n"
     ]
    }
   ],
   "source": [
    "x=0\n",
    "while x<3:\n",
    "    if x==0:\n",
    "        print(\"*   *\")\n",
    "    elif x==1:\n",
    "        print(\" * *\")\n",
    "    else:\n",
    "        print(\"  *\")\n",
    "    x=x+1  "
   ]
  },
  {
   "cell_type": "code",
   "execution_count": 12,
   "id": "8d5a1162",
   "metadata": {},
   "outputs": [
    {
     "name": "stdout",
     "output_type": "stream",
     "text": [
      "*   *   *\n",
      "*  * *  *\n",
      "* *  *  *\n",
      "**     **\n"
     ]
    }
   ],
   "source": [
    "x=0\n",
    "while x<4:\n",
    "    if x==0:\n",
    "        print(\"*   *   *\")\n",
    "    elif x==1:\n",
    "        print(\"*  * *  *\")\n",
    "    elif x==2:\n",
    "        print(\"* *  *  *\")\n",
    "    else:\n",
    "        print(\"**     **\")\n",
    "    x=x+1  "
   ]
  },
  {
   "cell_type": "code",
   "execution_count": 13,
   "id": "e86ce9fb",
   "metadata": {},
   "outputs": [
    {
     "name": "stdout",
     "output_type": "stream",
     "text": [
      "*   *\n",
      " * *\n",
      "  *\n",
      " * *\n",
      "*   *\n"
     ]
    }
   ],
   "source": [
    "x=0\n",
    "while x<5:\n",
    "    if x==0 or x==4:\n",
    "        print(\"*   *\")\n",
    "    elif x==1 or x==3:\n",
    "        print(\" * *\")\n",
    "    else:\n",
    "        print(\"  *\")\n",
    "    x=x+1  "
   ]
  },
  {
   "cell_type": "code",
   "execution_count": 14,
   "id": "d4c8f5a4",
   "metadata": {},
   "outputs": [
    {
     "name": "stdout",
     "output_type": "stream",
     "text": [
      "*   *\n",
      " * *\n",
      "  *\n",
      "  *\n",
      "  *\n"
     ]
    }
   ],
   "source": [
    "x=0\n",
    "while x<5:\n",
    "    if x==0 :\n",
    "        print(\"*   *\")\n",
    "    elif x==1 :\n",
    "        print(\" * *\")\n",
    "    else:\n",
    "        print(\"  *\")\n",
    "    x=x+1  "
   ]
  },
  {
   "cell_type": "code",
   "execution_count": 15,
   "id": "453c66f9",
   "metadata": {},
   "outputs": [
    {
     "name": "stdout",
     "output_type": "stream",
     "text": [
      "* * *\n",
      "   *\n",
      "  *\n",
      " *\n",
      "* * *\n"
     ]
    }
   ],
   "source": [
    "x=0\n",
    "while x<5:\n",
    "    if x==0 or x==4:\n",
    "        print(\"* * *\")\n",
    "    elif x==1 :\n",
    "        print(\"   *\")\n",
    "    elif x==2:\n",
    "        print(\"  *\")\n",
    "    elif x==3:\n",
    "        print(\" *\")\n",
    "    else:\n",
    "        print(\"  *\")\n",
    "    x=x+1  "
   ]
  },
  {
   "cell_type": "markdown",
   "id": "e929ed9f",
   "metadata": {},
   "source": [
    "# printing patterns from a to z using 'while' :"
   ]
  },
  {
   "cell_type": "code",
   "execution_count": 16,
   "id": "643be8bd",
   "metadata": {},
   "outputs": [
    {
     "name": "stdout",
     "output_type": "stream",
     "text": [
      " * **\n",
      "*   *\n",
      "*   *\n",
      "*   *\n",
      " * * **\n"
     ]
    }
   ],
   "source": [
    "x=5\n",
    "while x>0:\n",
    "    if x==5:\n",
    "        print(\" * **\")\n",
    "    elif x==4 or x==3 or x==2:\n",
    "        print(\"*   *\")\n",
    "    else:\n",
    "        print(\" * * **\")\n",
    "    x=x-1    "
   ]
  },
  {
   "cell_type": "code",
   "execution_count": 17,
   "id": "761f80d2",
   "metadata": {},
   "outputs": [
    {
     "name": "stdout",
     "output_type": "stream",
     "text": [
      "*\n",
      "*\n",
      "* * *\n",
      "*    *\n",
      "* * *\n"
     ]
    }
   ],
   "source": [
    "x=5\n",
    "while x>0:\n",
    "    if x==5 or x==4 :\n",
    "        print(\"*\")\n",
    "    elif x==3 or x==1:\n",
    "        print(\"* * *\")\n",
    "    else:\n",
    "        print(\"*    *\")\n",
    "    x=x-1 "
   ]
  },
  {
   "cell_type": "code",
   "execution_count": 18,
   "id": "f20025c0",
   "metadata": {},
   "outputs": [
    {
     "name": "stdout",
     "output_type": "stream",
     "text": [
      " * * *\n",
      "*\n",
      "*\n",
      "*\n",
      " * * *\n"
     ]
    }
   ],
   "source": [
    "x=5\n",
    "while x>0:\n",
    "    if x==5 or x==1:\n",
    "        print(\" * * *\")\n",
    "    elif x==4 or x==3 or x==2:\n",
    "        print(\"*\")\n",
    "    x=x-1    \n",
    "    "
   ]
  },
  {
   "cell_type": "code",
   "execution_count": 19,
   "id": "96820e50",
   "metadata": {},
   "outputs": [
    {
     "name": "stdout",
     "output_type": "stream",
     "text": [
      "     *\n",
      "     *\n",
      " * * *\n",
      "*    *\n",
      " * * *\n"
     ]
    }
   ],
   "source": [
    "x=5\n",
    "while x>0:\n",
    "    if x==3 or x==1:\n",
    "        print(\" * * *\")\n",
    "    elif x==5 or x==4:\n",
    "        print(\"     *\")\n",
    "    else:\n",
    "        print(\"*    *\")\n",
    "    x=x-1  "
   ]
  },
  {
   "cell_type": "code",
   "execution_count": 20,
   "id": "225f5f55",
   "metadata": {},
   "outputs": [
    {
     "name": "stdout",
     "output_type": "stream",
     "text": [
      " * * *\n",
      "*    *\n",
      "* * *\n",
      "*\n",
      " * * *\n"
     ]
    }
   ],
   "source": [
    "x=5\n",
    "while x>0:\n",
    "    if x==5 or x==1:\n",
    "        print(\" * * *\")\n",
    "    elif x==4:\n",
    "        print(\"*    *\")\n",
    "    elif x==3:\n",
    "        print(\"* * *\")\n",
    "    elif x==2:\n",
    "        print(\"*\")\n",
    "    else:\n",
    "        print(\"* * *\")\n",
    "    x=x-1    "
   ]
  },
  {
   "cell_type": "code",
   "execution_count": 21,
   "id": "59a3622e",
   "metadata": {},
   "outputs": [
    {
     "name": "stdout",
     "output_type": "stream",
     "text": [
      "   * * *\n",
      "  *    \n",
      "* * * *\n",
      "  *\n",
      "  *\n"
     ]
    }
   ],
   "source": [
    "x=5\n",
    "while x>0:\n",
    "    if x==5 :\n",
    "        print(\"   * * *\")\n",
    "    elif x==3:\n",
    "        print(\"* * * *\")\n",
    "    elif x==4:\n",
    "        print(\"  *    \")\n",
    "    else:\n",
    "        print(\"  *\")\n",
    "    x=x-1\n",
    "    "
   ]
  },
  {
   "cell_type": "code",
   "execution_count": 22,
   "id": "b84c04e3",
   "metadata": {},
   "outputs": [
    {
     "name": "stdout",
     "output_type": "stream",
     "text": [
      " * * *\n",
      "*    *\n",
      " * * *\n",
      "     *\n",
      "*    *\n",
      " * * *\n"
     ]
    }
   ],
   "source": [
    "x=6\n",
    "while x>0:\n",
    "    if x==6 or x==1:\n",
    "        print(\" * * *\")\n",
    "    elif x==5 or x==2:\n",
    "        print(\"*    *\")\n",
    "    elif x==4:\n",
    "        print(\" * * *\")\n",
    "        \n",
    "    else :\n",
    "        print(\"     *\")\n",
    "    x=x-1    "
   ]
  },
  {
   "cell_type": "code",
   "execution_count": 24,
   "id": "23840ed6",
   "metadata": {},
   "outputs": [
    {
     "name": "stdout",
     "output_type": "stream",
     "text": [
      "*\n",
      "*\n",
      "*  *  *\n",
      "*     *\n",
      "*     *\n"
     ]
    }
   ],
   "source": [
    "x=5\n",
    "while x>0:\n",
    "    if x==4 or x==5:\n",
    "        print(\"*\")\n",
    "    elif x==3:\n",
    "        print(\"*  *  *\")\n",
    "    else:\n",
    "        print(\"*     *\")\n",
    "    x=x-1    \n",
    "    "
   ]
  },
  {
   "cell_type": "code",
   "execution_count": 25,
   "id": "a860badd",
   "metadata": {},
   "outputs": [
    {
     "name": "stdout",
     "output_type": "stream",
     "text": [
      "*\n",
      " \n",
      "*\n",
      "*\n",
      "*\n"
     ]
    }
   ],
   "source": [
    "x=5\n",
    "while x>0:\n",
    "    if x==5 :\n",
    "        print(\"*\")\n",
    "    elif x==1 or x==3 or x==2:\n",
    "        print(\"*\")\n",
    "    else:\n",
    "        print(\" \")\n",
    "    x=x-1    "
   ]
  },
  {
   "cell_type": "code",
   "execution_count": 27,
   "id": "05f4388d",
   "metadata": {},
   "outputs": [
    {
     "name": "stdout",
     "output_type": "stream",
     "text": [
      "    *   \n",
      "    *   \n",
      "    *   \n",
      "    *   \n",
      "  * *   \n",
      "   **   \n"
     ]
    }
   ],
   "source": [
    "x=1\n",
    "while x<7:\n",
    "    if x==1:\n",
    "        print(\"    *   \")\n",
    "    elif x==2 or x==3 or x==4:\n",
    "        print(\"    *   \")\n",
    "    elif x==5:\n",
    "        print(\"  * *   \")\n",
    "    else:\n",
    "        print(\"   **   \")\n",
    "    x=x+1"
   ]
  },
  {
   "cell_type": "code",
   "execution_count": 28,
   "id": "aad01e9e",
   "metadata": {},
   "outputs": [
    {
     "name": "stdout",
     "output_type": "stream",
     "text": [
      "*\n",
      "*\n",
      "*  *\n",
      "**\n",
      "*  *\n"
     ]
    }
   ],
   "source": [
    "x=5\n",
    "while x>0:\n",
    "    if x==5  or x==4:\n",
    "        print(\"*\")\n",
    "    elif x==3 or x==1 :\n",
    "        print(\"*  *\")\n",
    "    else:\n",
    "        print(\"**\")\n",
    "    x=x-1 "
   ]
  },
  {
   "cell_type": "code",
   "execution_count": 29,
   "id": "43a5d277",
   "metadata": {},
   "outputs": [
    {
     "name": "stdout",
     "output_type": "stream",
     "text": [
      " * \n",
      " * \n",
      " * \n",
      " * \n",
      "* * \n"
     ]
    }
   ],
   "source": [
    "x=5\n",
    "while x>0:\n",
    "    if x==1:\n",
    "        print(\"* * \")\n",
    "    else:\n",
    "        print(\" * \")\n",
    "    x=x-1    \n",
    "    "
   ]
  },
  {
   "cell_type": "code",
   "execution_count": 30,
   "id": "2b248342",
   "metadata": {},
   "outputs": [
    {
     "name": "stdout",
     "output_type": "stream",
     "text": [
      "*  *   *\n",
      "  *  *  *\n",
      "  *  *  *\n",
      "  *  *  *\n",
      "  *  *  *\n"
     ]
    }
   ],
   "source": [
    "x=5\n",
    "while x>0:\n",
    "    if x==4 or  x==3 or x==2 or x==1:\n",
    "        print(\"  *  *  *\")\n",
    "    else:\n",
    "        print(\"*  *   *\")\n",
    "    x=x-1 "
   ]
  },
  {
   "cell_type": "code",
   "execution_count": 31,
   "id": "b91ac743",
   "metadata": {},
   "outputs": [
    {
     "name": "stdout",
     "output_type": "stream",
     "text": [
      "*   *  *\n",
      "  *     *\n",
      "  *     *\n",
      "  *     *\n",
      "  *     *\n"
     ]
    }
   ],
   "source": [
    "x=5\n",
    "while x>0:\n",
    "    if x==4 or  x==3 or x==2 or x==1:\n",
    "        print(\"  *     *\")\n",
    "    else:\n",
    "        print(\"*   *  *\")\n",
    "    x=x-1 "
   ]
  },
  {
   "cell_type": "code",
   "execution_count": 32,
   "id": "620f146e",
   "metadata": {},
   "outputs": [
    {
     "name": "stdout",
     "output_type": "stream",
     "text": [
      " *  *  *\n",
      "*       *\n",
      "*       *\n",
      "*       *\n",
      " *  *  *\n"
     ]
    }
   ],
   "source": [
    "x=5\n",
    "while x>0:\n",
    "    if x==4 or  x==3 or x==2:\n",
    "        print(\"*       *\")\n",
    "    else:\n",
    "        print(\" *  *  *\")\n",
    "    x=x-1"
   ]
  },
  {
   "cell_type": "code",
   "execution_count": 33,
   "id": "e23eb0df",
   "metadata": {},
   "outputs": [
    {
     "name": "stdout",
     "output_type": "stream",
     "text": [
      "*\n",
      "*  *  *\n",
      "*     *\n",
      "*  *  *\n",
      "*\n",
      "*\n"
     ]
    }
   ],
   "source": [
    "x=6\n",
    "while x>0:\n",
    "    if x==5 or x==3:\n",
    "        print(\"*  *  *\")\n",
    "    elif x==6  or x==1 or x==2:\n",
    "        print(\"*\")\n",
    "    else:\n",
    "        print(\"*     *\")\n",
    "    x=x-1  "
   ]
  },
  {
   "cell_type": "code",
   "execution_count": 34,
   "id": "f3becd95",
   "metadata": {},
   "outputs": [
    {
     "name": "stdout",
     "output_type": "stream",
     "text": [
      " *  *\n",
      "*    *\n",
      " *  *\n",
      "     *   *\n",
      "      * *\n",
      "       *\n"
     ]
    }
   ],
   "source": [
    "x=6\n",
    "while x>0:\n",
    "    if x==6 or x==4:\n",
    "        print(\" *  *\")\n",
    "    elif x==5:\n",
    "        print(\"*    *\")\n",
    "    elif x==3:\n",
    "        print(\"     *   *\")\n",
    "    elif x==2:\n",
    "        print(\"      * *\")\n",
    "    else:\n",
    "        print(\"       *\")\n",
    "    x=x-1    "
   ]
  },
  {
   "cell_type": "code",
   "execution_count": 35,
   "id": "6d8a65fc",
   "metadata": {},
   "outputs": [
    {
     "name": "stdout",
     "output_type": "stream",
     "text": [
      "*    *\n",
      "  *\n",
      " * *\n",
      " * *\n",
      " * *\n",
      "  *\n"
     ]
    }
   ],
   "source": [
    "x=6\n",
    "while x>0:\n",
    "    if x==6:\n",
    "        print(\"*    *\")\n",
    "    elif x==5 or x==1:\n",
    "        print(\"  *\")\n",
    "    else:\n",
    "        print(\" * *\")\n",
    "    x=x-1  "
   ]
  },
  {
   "cell_type": "code",
   "execution_count": 36,
   "id": "fce72d8a",
   "metadata": {},
   "outputs": [
    {
     "name": "stdout",
     "output_type": "stream",
     "text": [
      "*  *  *\n",
      "*     *\n",
      "  *\n",
      "    *\n",
      "      *\n",
      "*     *\n",
      "*  *  *\n"
     ]
    }
   ],
   "source": [
    "x=7\n",
    "while x>0:\n",
    "    if x==7 or x==1:\n",
    "        print(\"*  *  *\")\n",
    "    elif x==6 :\n",
    "        print(\"*     *\")\n",
    "    elif x==5:\n",
    "        print(\"  *\")\n",
    "    elif x==4:\n",
    "        print(\"    *\")\n",
    "    elif x==3:\n",
    "        print(\"      *\")\n",
    "    else:\n",
    "        print(\"*     *\")\n",
    "    x=x-1    "
   ]
  },
  {
   "cell_type": "code",
   "execution_count": 37,
   "id": "5ea8f525",
   "metadata": {},
   "outputs": [
    {
     "name": "stdout",
     "output_type": "stream",
     "text": [
      "  *\n",
      "* * *\n",
      "  *\n",
      "  *\n",
      "  *  *\n",
      "   **\n"
     ]
    }
   ],
   "source": [
    "x=5\n",
    "while x>=0:\n",
    "    if x==5 or x==3 or x==2:\n",
    "        print(\"  *\")\n",
    "    elif x==4:\n",
    "        print(\"* * *\")\n",
    "    elif x==1:\n",
    "        print(\"  *  *\")\n",
    "    else:\n",
    "        print(\"   **\")\n",
    "    x=x-1 "
   ]
  },
  {
   "cell_type": "code",
   "execution_count": 38,
   "id": "10b8e9a9",
   "metadata": {},
   "outputs": [
    {
     "name": "stdout",
     "output_type": "stream",
     "text": [
      "  *     *\n",
      "  *     *\n",
      "  *     *\n",
      "  *     *\n",
      "  *     *\n",
      "   *  *  *\n"
     ]
    }
   ],
   "source": [
    "x=5\n",
    "while x>=0:\n",
    "    if x==5 or x==4 or x==3 or x==2 or x==1:\n",
    "        print(\"  *     *\")\n",
    "    else:\n",
    "        print(\"   *  *  *\")\n",
    "    x=x-1  "
   ]
  },
  {
   "cell_type": "code",
   "execution_count": 47,
   "id": "36fba040",
   "metadata": {},
   "outputs": [
    {
     "name": "stdout",
     "output_type": "stream",
     "text": [
      "*   *\n",
      " * *\n",
      "  *\n"
     ]
    }
   ],
   "source": [
    "x=0\n",
    "while x<3:\n",
    "    if x==0:\n",
    "        print(\"*   *\")\n",
    "    elif x==1:\n",
    "        print(\" * *\")\n",
    "    else:\n",
    "        print(\"  *\")\n",
    "    x=x+1 "
   ]
  },
  {
   "cell_type": "code",
   "execution_count": 6,
   "id": "5aae4297",
   "metadata": {},
   "outputs": [
    {
     "name": "stdout",
     "output_type": "stream",
     "text": [
      "  *     *    *\n",
      "  *     *    *\n",
      "  *     *    *\n",
      "  *     *    *\n",
      "  *     *    *\n",
      "   *  *  *  *\n"
     ]
    }
   ],
   "source": [
    "x=1\n",
    "while x<7:\n",
    "    if x==5 or x==4 or x==3 or x==2 or x==1:\n",
    "            print(\"  *     *    *\")\n",
    "    else:\n",
    "            print(\"   *  *  *  *\")\n",
    "    x=x+1\n",
    "        "
   ]
  },
  {
   "cell_type": "code",
   "execution_count": 2,
   "id": "989fb4ff",
   "metadata": {},
   "outputs": [
    {
     "name": "stdout",
     "output_type": "stream",
     "text": [
      "*   *\n",
      " * *\n",
      "  *\n",
      " * *\n",
      "*   *\n"
     ]
    }
   ],
   "source": [
    "x=0\n",
    "while x<5:\n",
    "    if x==0 or x==4:\n",
    "        print(\"*   *\")\n",
    "    elif x==1 or x==3:\n",
    "        print(\" * *\")\n",
    "    else:\n",
    "        print(\"  *\")\n",
    "    x=x+1"
   ]
  },
  {
   "cell_type": "code",
   "execution_count": 48,
   "id": "45f4ef9d",
   "metadata": {},
   "outputs": [
    {
     "name": "stdout",
     "output_type": "stream",
     "text": [
      "*   *\n",
      "*   *\n",
      "* * *\n",
      "    *\n",
      "*   *\n",
      " * *\n"
     ]
    }
   ],
   "source": [
    "x=5\n",
    "while x>=0:\n",
    "    if x==5 or x==4 or x==1:\n",
    "        print(\"*   *\")\n",
    "    elif x==3:\n",
    "        print(\"* * *\")\n",
    "    elif x==2:\n",
    "        print(\"    *\")\n",
    "    else:\n",
    "        print(\" * *\")\n",
    "    x=x-1 "
   ]
  },
  {
   "cell_type": "code",
   "execution_count": 49,
   "id": "9c9535fc",
   "metadata": {},
   "outputs": [
    {
     "name": "stdout",
     "output_type": "stream",
     "text": [
      "* * *\n",
      "    *\n",
      "  *\n",
      " *\n",
      "*\n",
      "* * *\n"
     ]
    }
   ],
   "source": [
    "x=5\n",
    "while x>=0:\n",
    "    if x==0 or x==5:\n",
    "        print(\"* * *\")\n",
    "    elif x==4 :\n",
    "        print(\"    *\")\n",
    "    elif x==3:\n",
    "        print(\"  *\")\n",
    "    elif x==2:\n",
    "        print(\" *\")\n",
    "    elif x==1:\n",
    "        print(\"*\")\n",
    "    else:\n",
    "        print(\"  *\")\n",
    "    x=x-1  "
   ]
  }
 ],
 "metadata": {
  "kernelspec": {
   "display_name": "Python 3 (ipykernel)",
   "language": "python",
   "name": "python3"
  },
  "language_info": {
   "codemirror_mode": {
    "name": "ipython",
    "version": 3
   },
   "file_extension": ".py",
   "mimetype": "text/x-python",
   "name": "python",
   "nbconvert_exporter": "python",
   "pygments_lexer": "ipython3",
   "version": "3.10.9"
  }
 },
 "nbformat": 4,
 "nbformat_minor": 5
}
