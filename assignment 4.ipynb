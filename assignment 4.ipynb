{
 "cells": [
  {
   "cell_type": "code",
   "execution_count": 1,
   "id": "63458bc6",
   "metadata": {},
   "outputs": [
    {
     "name": "stdout",
     "output_type": "stream",
     "text": [
      "1\n",
      "2\n",
      "3\n",
      "4\n",
      "5\n",
      "6\n"
     ]
    }
   ],
   "source": [
    "#1)Write a Python program to loop through all the elements in a list\n",
    "x=[1,2,3,4,5,6]\n",
    "z=1\n",
    "while z<=len(x):\n",
    "    print(z)\n",
    "    z=z+1"
   ]
  },
  {
   "cell_type": "code",
   "execution_count": 2,
   "id": "77566ff9",
   "metadata": {},
   "outputs": [
    {
     "name": "stdout",
     "output_type": "stream",
     "text": [
      "number of elements to insert into a list:2\n",
      "enter elements to insert:[1,2]\n",
      "enter elements to insert:[3,4]\n",
      "['[1,2]', '[3,4]']\n"
     ]
    }
   ],
   "source": [
    "#2)Write a Python program where you will ask the users to insert elements in a list\n",
    "y=[]\n",
    "a=int(input(\"number of elements to insert into a list:\"))\n",
    "for x in range(1,a+1):\n",
    "     b=input(\"enter elements to insert:\")\n",
    "     y.append(b)\n",
    "print(y)"
   ]
  },
  {
   "cell_type": "code",
   "execution_count": 3,
   "id": "05726f84",
   "metadata": {},
   "outputs": [
    {
     "data": {
      "text/plain": [
       "[1, 3, 5, 7]"
      ]
     },
     "execution_count": 3,
     "metadata": {},
     "output_type": "execute_result"
    }
   ],
   "source": [
    "#3. Write a Python program to remove all the odd index value from a list and only even index elements should remain\n",
    "l=[1,2,3,4,5,6,7]\n",
    "l[::2]"
   ]
  },
  {
   "cell_type": "code",
   "execution_count": 4,
   "id": "40b662f9",
   "metadata": {},
   "outputs": [
    {
     "ename": "NameError",
     "evalue": "name 'totalsum' is not defined",
     "output_type": "error",
     "traceback": [
      "\u001b[1;31m---------------------------------------------------------------------------\u001b[0m",
      "\u001b[1;31mNameError\u001b[0m                                 Traceback (most recent call last)",
      "Cell \u001b[1;32mIn[4], line 6\u001b[0m\n\u001b[0;32m      4\u001b[0m product\u001b[38;5;241m=\u001b[39m\u001b[38;5;241m1\u001b[39m\n\u001b[0;32m      5\u001b[0m \u001b[38;5;28;01mfor\u001b[39;00m x \u001b[38;5;129;01min\u001b[39;00m y:\n\u001b[1;32m----> 6\u001b[0m     totalsum\u001b[38;5;241m+\u001b[39m\u001b[38;5;241m=\u001b[39mx\n\u001b[0;32m      7\u001b[0m     totalproduct\u001b[38;5;241m*\u001b[39m\u001b[38;5;241m=\u001b[39mx\n\u001b[0;32m      8\u001b[0m     \u001b[38;5;28mprint\u001b[39m(\u001b[38;5;124m\"\u001b[39m\u001b[38;5;124msum:\u001b[39m\u001b[38;5;124m\"\u001b[39m, totalsum)\n",
      "\u001b[1;31mNameError\u001b[0m: name 'totalsum' is not defined"
     ]
    }
   ],
   "source": [
    "# 4)Write a Python program to sum and multiply all the items in a list\n",
    "y=[4,8,10,35,67]\n",
    "sum1=0\n",
    "product=1\n",
    "for x in y:\n",
    "    totalsum+=x\n",
    "    totalproduct*=x\n",
    "    print(\"sum:\", totalsum)\n",
    "print(\"product:\",totalproduct)"
   ]
  },
  {
   "cell_type": "code",
   "execution_count": 5,
   "id": "851eb365",
   "metadata": {},
   "outputs": [
    {
     "name": "stdout",
     "output_type": "stream",
     "text": [
      "minimum value is: -123\n",
      "maximum number is: 89\n"
     ]
    }
   ],
   "source": [
    "#5) Write a Python program to get the maximum and minimum numbers from a list\n",
    "y=[45,-23,89,-123,67]\n",
    "y.sort()\n",
    "print(\"minimum value is:\",y[0])\n",
    "print(\"maximum number is:\",y[-1])"
   ]
  },
  {
   "cell_type": "code",
   "execution_count": 6,
   "id": "e350b4ab",
   "metadata": {},
   "outputs": [
    {
     "name": "stdout",
     "output_type": "stream",
     "text": [
      "['Green', 'White', 'Black']\n"
     ]
    }
   ],
   "source": [
    "#6. Write a Python program to print a specified list after removing the 0th, 4th and 5th elements.\n",
    "l=[]\n",
    "x=['Red', 'Green', 'White', 'Black', 'Pink', 'Yellow']\n",
    "\n",
    "for y in range(0,len(x)):\n",
    "    if y!=0 and y!=4 and y!=5:\n",
    "        l.append(x[y])\n",
    "    else:\n",
    "        continue\n",
    "print(l)"
   ]
  },
  {
   "cell_type": "code",
   "execution_count": 7,
   "id": "9f8cf9f9",
   "metadata": {},
   "outputs": [
    {
     "name": "stdout",
     "output_type": "stream",
     "text": [
      "a b 1 2 3 "
     ]
    },
    {
     "data": {
      "text/plain": [
       "str"
      ]
     },
     "execution_count": 7,
     "metadata": {},
     "output_type": "execute_result"
    }
   ],
   "source": [
    "#7. Write a Python program to convert a list of characters into a string\n",
    "x=[\"a\",\"b\",1,2,3]\n",
    "for y in x:\n",
    "    print(y,end=\" \")\n",
    "    y=str(y)\n",
    "    \n",
    "type(y)"
   ]
  },
  {
   "cell_type": "code",
   "execution_count": 8,
   "id": "6a0af9f9",
   "metadata": {},
   "outputs": [
    {
     "name": "stdout",
     "output_type": "stream",
     "text": [
      "3.0\n"
     ]
    }
   ],
   "source": [
    "#8. Write a Python program to compute average of given lists.\n",
    "l=[1,2,3,4,5]\n",
    "num=len(l)\n",
    "avg=0\n",
    "for x in l:\n",
    "    avg+=x/num\n",
    "print(avg)"
   ]
  },
  {
   "cell_type": "code",
   "execution_count": 9,
   "id": "a6b9239b",
   "metadata": {},
   "outputs": [
    {
     "name": "stdout",
     "output_type": "stream",
     "text": [
      "<class 'str'>\n",
      "<class 'int'>\n",
      "<class 'float'>\n",
      "<class 'int'>\n",
      "<class 'int'>\n",
      "4\n"
     ]
    }
   ],
   "source": [
    "#9. Write a Python program to count integer in a given mixed list.\n",
    "x=[\"a\",21,-19.8,34,56]\n",
    "count=0\n",
    "for y in x:\n",
    "    print(type(y))\n",
    "    if type(y)==int or type(y)==float:\n",
    "        count+=1\n",
    "        \n",
    "print(count) "
   ]
  },
  {
   "cell_type": "code",
   "execution_count": 10,
   "id": "caf5f3d8",
   "metadata": {},
   "outputs": [
    {
     "data": {
      "text/plain": [
       "[(2+0j), 78.9, '@', 'a', 23]"
      ]
     },
     "execution_count": 10,
     "metadata": {},
     "output_type": "execute_result"
    }
   ],
   "source": [
    "#10. Write a Python program to reverse the list \n",
    "x=[23,\"a\",\"@\",78.9,2+0j]\n",
    "x.reverse()\n",
    "x"
   ]
  },
  {
   "cell_type": "code",
   "execution_count": 11,
   "id": "621ae876",
   "metadata": {},
   "outputs": [
    {
     "name": "stdout",
     "output_type": "stream",
     "text": [
      "('p', 'y', 't', 'h', 'o', 'n', ' ', 'p', 'r', 'o', 'g', 'r', 'a', 'm', 'm', 'i', 'n', 'g', ' ', 'l', 'a', 'n', 'g', 'u', 'n', 'a', 'g', 'e')\n"
     ]
    },
    {
     "data": {
      "text/plain": [
       "tuple"
      ]
     },
     "execution_count": 11,
     "metadata": {},
     "output_type": "execute_result"
    }
   ],
   "source": [
    "#11. Write a Python program convert a given string to a tuple\n",
    "l=[]\n",
    "str1=\"python programming langunage\"\n",
    "for y in str1:\n",
    "    l.append(y)\n",
    "final_result=tuple(l)\n",
    "print(final_result)\n",
    "type(final_result)"
   ]
  }
 ],
 "metadata": {
  "kernelspec": {
   "display_name": "Python 3 (ipykernel)",
   "language": "python",
   "name": "python3"
  },
  "language_info": {
   "codemirror_mode": {
    "name": "ipython",
    "version": 3
   },
   "file_extension": ".py",
   "mimetype": "text/x-python",
   "name": "python",
   "nbconvert_exporter": "python",
   "pygments_lexer": "ipython3",
   "version": "3.10.9"
  }
 },
 "nbformat": 4,
 "nbformat_minor": 5
}
