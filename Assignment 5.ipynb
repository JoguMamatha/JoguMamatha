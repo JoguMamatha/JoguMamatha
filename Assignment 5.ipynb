{
 "cells": [
  {
   "cell_type": "code",
   "execution_count": 1,
   "id": "5d17e0a0",
   "metadata": {},
   "outputs": [
    {
     "name": "stdout",
     "output_type": "stream",
     "text": [
      "the list: [2, 3, 1, 1, 3, 3, 6, 2, 7, 8, 9]\n",
      "list after removing dupicate elements: [2, 3, 1, 6, 7, 8, 9]\n",
      "[1, 2, 3, 6, 7, 8, 9]\n"
     ]
    }
   ],
   "source": [
    "#1. Given a list of numbers, write a python program that returns a new list which Has all duplicate elements removed. And is sorted in an increasing order.\n",
    "# Ex:\n",
    "#Input:[2,1,3,4,2,3,3,2,7,9,8,7]\n",
    "#Output:[1,2,3,4,7,8,9]\n",
    "l=[2,3,1,1,3,3,6,2,7,8,9]\n",
    "print(\"the list:\",l)\n",
    "new_list=[]\n",
    "for x in l:\n",
    "     if x not in new_list:\n",
    "            new_list.append(x)\n",
    "print(\"list after removing dupicate elements:\",new_list)\n",
    "new_list.sort()\n",
    "print(new_list)"
   ]
  },
  {
   "cell_type": "code",
   "execution_count": 2,
   "id": "38675fc9",
   "metadata": {},
   "outputs": [
    {
     "name": "stdout",
     "output_type": "stream",
     "text": [
      "enter how many pair of elements do you want:2\n",
      "enter keys:1,2\n",
      "enter values:\"a\",\"b\"\n",
      "enter keys:1,2\n",
      "enter values:3,4\n",
      "1,2 3,4\n"
     ]
    }
   ],
   "source": [
    "#2. Write a Python program where you will iterate over both keys and values in dictionaries\n",
    "x=int(input(\"enter how many pair of elements do you want:\"))\n",
    "d={}\n",
    "for y in range(x):\n",
    "    a=input(\"enter keys:\")\n",
    "    b=input(\"enter values:\")\n",
    "    d.update({a:b})\n",
    "for e,f in d.items():\n",
    "    \n",
    "    print(e,f)\n",
    "    \n"
   ]
  },
  {
   "cell_type": "code",
   "execution_count": 3,
   "id": "c38c5966",
   "metadata": {},
   "outputs": [
    {
     "name": "stdout",
     "output_type": "stream",
     "text": [
      "['Tarun', 'Manoj', 'Gephi']\n",
      "student name in alphabetical order: ['Gephi', 'Manoj', 'Tarun']\n"
     ]
    }
   ],
   "source": [
    "#3. Write a Python program that takes a dictionary of student names and returns a list of student names in alphabetical order\n",
    "#Ex:\n",
    "#Input:{“Student 1”: \"Tarun\", \"Student 2”: \"Manoj\", \"Student 3”: \"Gephi”}\n",
    "#Output:[“Gephi”,”Manoj”,” Tarun”]\n",
    "x={\"Student 1\": \"Tarun\", \"Student 2\": \"Manoj\", \"Student 3\": \"Gephi\"}\n",
    "list1=list(x.values())\n",
    "print(list1)\n",
    "list1.sort()\n",
    "print(\"student name in alphabetical order:\",list1)"
   ]
  },
  {
   "cell_type": "code",
   "execution_count": 4,
   "id": "d08459c3",
   "metadata": {},
   "outputs": [
    {
     "name": "stdout",
     "output_type": "stream",
     "text": [
      "[False, True, False, False, True]\n"
     ]
    }
   ],
   "source": [
    "#4. Write a Python which returns a new list of Booleans, from a given number. Iterating through the number one digit at a time, append True if the digit is 1 and False if it is 0.\n",
    "#Ex:Input: “01001”\n",
    "#Output: [“False”, “True”, “False”,” False”,” True\"]\n",
    "z=[]\n",
    "x=\"01001\"   \n",
    "y=list(x)\n",
    "for a in range(len(y)):\n",
    "    if y[a]==\"0\":\n",
    "        z+=[False]\n",
    "    else:\n",
    "        z+=[True]\n",
    "print(z)"
   ]
  },
  {
   "cell_type": "code",
   "execution_count": 5,
   "id": "ca6d1903",
   "metadata": {},
   "outputs": [
    {
     "name": "stdout",
     "output_type": "stream",
     "text": [
      "enter a string:manu\n",
      "{'m': 1, 'a': 1, 'n': 1, 'u': 1}\n"
     ]
    }
   ],
   "source": [
    "#5)Write a Python program where you will return a dictionary where the keys will be the character and the values will be the occurrence of the character in the string, and it should for any string inputs (dynamic)\n",
    "#Ex:Input: “my name is ame”\n",
    "#Output: {“m”:3,” y”:1,” n”:1,” a”:2,” e”:2,” i”:1,” s”:1}\n",
    "d={}\n",
    "a=input(\"enter a string:\")\n",
    "for x in a:\n",
    "    if x==\" \":\n",
    "        continue\n",
    "    else:\n",
    "        d.update({x:a.count(x)})\n",
    "print(d)"
   ]
  },
  {
   "cell_type": "code",
   "execution_count": 7,
   "id": "9ed63c43",
   "metadata": {},
   "outputs": [
    {
     "name": "stdout",
     "output_type": "stream",
     "text": [
      "oldest_person: radhey\n"
     ]
    }
   ],
   "source": [
    "# 6. Given a dictionary containing the names and ages of a group of people, return the name of the oldest person\n",
    "#Ex:Input: {\"Tmma\": 41, \"Ackes\": 45, \"myna\": 15, \"Benthon\": 29}\n",
    "#Output: “Ackes”\n",
    "x={\"Tmma\": 41, \"radhey\": 45, \"myna\": 15, \"Benthon\": 29}\n",
    "oldest_age=0\n",
    "oldest_person=\"\"\n",
    "for name,age in x.items():\n",
    "    if age>oldest_age:\n",
    "        oldest_person=name\n",
    "        oldest_age=age\n",
    "print(\"oldest_person:\",oldest_person)"
   ]
  },
  {
   "cell_type": "code",
   "execution_count": 8,
   "id": "5544b22b",
   "metadata": {},
   "outputs": [
    {
     "name": "stdout",
     "output_type": "stream",
     "text": [
      "start the game by pressing y/n:y\n",
      "enter-rock,paper or scissors:paper\n",
      "enter-rock,paper or scissors:rock\n",
      "a win\n",
      "press 'y' to continue 'n' to stop:n\n"
     ]
    }
   ],
   "source": [
    "#7. Write a Python program to create a Rock, Paper, Scissor game, use two inputs for two players:\n",
    "#Conditions: -Rock beats Scissors, Scissors beats Paper, Paper beats Rock\n",
    "s=input(\"start the game by pressing y/n:\")\n",
    "while s==\"y\" or \"Y\":\n",
    "    a=input(\"enter-rock,paper or scissors:\")\n",
    "    b=input(\"enter-rock,paper or scissors:\")\n",
    "    if a==\"rock\" and b==\"scissors\" or a==\"scissors\" and b==\"paper\" or a==\"paper\" and b==\"rock\":\n",
    "        print(\"a win\")\n",
    "        g=input(\"press 'y' to continue 'n' to stop:\")\n",
    "    elif a==\"rock\" and b==\"rock\" or a==\"scissors\" and b==\"scissors\" or a==\"paper\" and b==\"paper\":\n",
    "        print(\"tie\")\n",
    "        g=input(\"press 'y' to continue 'n' to stop:\")\n",
    "    else:\n",
    "        print(\"b win\")\n",
    "        g=input(\"press 'y' to continue 'n' to stop:\")\n",
    "    if g==\"y\":\n",
    "        continue\n",
    "        g=input(\"press 'y' to continue 'n' to stop:\")\n",
    "    else:\n",
    "        break\n"
   ]
  },
  {
   "cell_type": "code",
   "execution_count": 9,
   "id": "8a89cecd",
   "metadata": {},
   "outputs": [
    {
     "name": "stdout",
     "output_type": "stream",
     "text": [
      "Enter Your Wallet Balance: 30\n",
      "Items you can buy: ['water bottles', 'chips']\n",
      "Your remaining balance will be:  0\n"
     ]
    }
   ],
   "source": [
    "#8. Create a program that returns a list of items that you can afford in the store with the money you have in your wallet. Create a dictionary with items as key and price as values\n",
    "#Ex:Input:{“water bottles”: “20”,” chips”:10,” Iphone”;49000“,” towel”:90,” pens”:58,” cake”;400}\n",
    "#Your wallet balance: -50\n",
    "#Output: [“water bottles”, “chips”]\n",
    "\n",
    "store_items={\"water bottles\": 20, \"chips\":10, \"Iphone\":49000, \"towel\":90, \"pens\":58, \"cake\":400}\n",
    "a=0;b=0;l=[]\n",
    "x=int(input(\"Enter Your Wallet Balance: \"))\n",
    "for y,z in store_items.items():\n",
    "    if z<=x and z<=x:\n",
    "        a+=z\n",
    "        b=y\n",
    "        l.append(b)\n",
    "    else:\n",
    "        continue\n",
    "print(\"Items you can buy:\",l)\n",
    "if a>x:\n",
    "    print(\"Your remaining balance will be: \",a-x)\n",
    "else:\n",
    "    print(\"Your remaining balance will be: \",x-a)"
   ]
  },
  {
   "cell_type": "code",
   "execution_count": 10,
   "id": "bcd1d406",
   "metadata": {},
   "outputs": [
    {
     "data": {
      "text/plain": [
       "{3, 8, 16, 18, 19, 21, 45, 87}"
      ]
     },
     "execution_count": 10,
     "metadata": {},
     "output_type": "execute_result"
    }
   ],
   "source": [
    "#9. Write a Python program to create a union of sets\n",
    "set1={3,87,45,16,8}\n",
    "set2={21,19,18,8,16}\n",
    "set1.union(set2)"
   ]
  },
  {
   "cell_type": "code",
   "execution_count": 11,
   "id": "fc35a75d",
   "metadata": {},
   "outputs": [
    {
     "name": "stdout",
     "output_type": "stream",
     "text": [
      "how many values do you want to insert:3\n",
      "enter the values:1,2,3\n",
      "enter the values:4,5,6\n",
      "enter the values:1,2,4\n",
      "{'1,2,4', '1,2,3', '4,5,6'}\n",
      "enter value to check:5\n"
     ]
    },
    {
     "data": {
      "text/plain": [
       "False"
      ]
     },
     "execution_count": 11,
     "metadata": {},
     "output_type": "execute_result"
    }
   ],
   "source": [
    "#10. Write a Python program to check if a given value is present in a set or not(Dynamic)\n",
    "set1=set(())\n",
    "s=int(input(\"how many values do you want to insert:\"))\n",
    "for x in range(s):\n",
    "    a=input(\"enter the values:\")\n",
    "    set1.add(a)\n",
    "print(set1)\n",
    "b=input(\"enter value to check:\")\n",
    "b in set1"
   ]
  },
  {
   "cell_type": "code",
   "execution_count": 12,
   "id": "caa24181",
   "metadata": {},
   "outputs": [
    {
     "name": "stdout",
     "output_type": "stream",
     "text": [
      "Give the string: cat\n",
      "{}\n",
      "{}\n"
     ]
    }
   ],
   "source": [
    "#11. Write a Python program to find the occurrences of 3 most common words in a given text. And make it as a dictionaries\n",
    "#Ex:Input:\n",
    "#” Cat dog dog cat horse dog dog mouse horse dog mouse tiger lion tiger cat mouse snail”\n",
    "#Output: (“dog”:5,”cat”:3,” mouse”;3)\n",
    "x=input(\"Give the string: \")\n",
    "d={}\n",
    "a=x.title().split()\n",
    "for z in a:\n",
    "    p=a.count(z)        \n",
    "    if p>1:\n",
    "        d.update({z:p})      \n",
    "print(d)\n",
    "l=0;m={};r=[]\n",
    "for x in d.values():\n",
    "    r.append(x)\n",
    "    n=r[0]\n",
    "    if l<x:\n",
    "        l=x\n",
    "    elif n>x:\n",
    "        n=x\n",
    "    else:\n",
    "        continue\n",
    "for s,t in d.items():\n",
    "    if t>n and t<=l:\n",
    "        m.update({s:t})\n",
    "print(m)"
   ]
  },
  {
   "cell_type": "code",
   "execution_count": 13,
   "id": "aae28b8e",
   "metadata": {},
   "outputs": [
    {
     "name": "stdout",
     "output_type": "stream",
     "text": [
      "how many inputs do you want:2\n",
      "enter the subject:math\n",
      "enter marks:56\n",
      "enter the subject:social\n",
      "enter marks:90\n",
      "{'math': 56, 'social': 90}\n"
     ]
    }
   ],
   "source": [
    "#12. Write a Python program that accepts name of given subject and mark, and make subjects as keys in dictionaries and marks as values and print the final dictionary with subjects and marks\n",
    "a=int(input(\"how many inputs do you want:\"))\n",
    "d={}\n",
    "for z in range(a):\n",
    "    x=input(\"enter the subject:\")\n",
    "    y=int(input(\"enter marks:\"))\n",
    "    d.update({x:y})\n",
    "print(d)"
   ]
  },
  {
   "cell_type": "code",
   "execution_count": null,
   "id": "658a2094",
   "metadata": {},
   "outputs": [],
   "source": []
  }
 ],
 "metadata": {
  "kernelspec": {
   "display_name": "Python 3 (ipykernel)",
   "language": "python",
   "name": "python3"
  },
  "language_info": {
   "codemirror_mode": {
    "name": "ipython",
    "version": 3
   },
   "file_extension": ".py",
   "mimetype": "text/x-python",
   "name": "python",
   "nbconvert_exporter": "python",
   "pygments_lexer": "ipython3",
   "version": "3.10.9"
  }
 },
 "nbformat": 4,
 "nbformat_minor": 5
}
