{
 "cells": [
  {
   "cell_type": "code",
   "execution_count": 1,
   "id": "c825011b",
   "metadata": {},
   "outputs": [
    {
     "name": "stdout",
     "output_type": "stream",
     "text": [
      "0\n",
      "1\n",
      "2\n",
      "4\n",
      "5\n"
     ]
    }
   ],
   "source": [
    "#1) Write a Python program that prints all the numbers from 0 to 6 except 3 and 6\n",
    "for x in range(0,7):\n",
    "     if x%3==0 and x!=0: \n",
    "            continue\n",
    "     else:\n",
    "        print(x)"
   ]
  },
  {
   "cell_type": "code",
   "execution_count": 2,
   "id": "17a11c39",
   "metadata": {},
   "outputs": [
    {
     "name": "stdout",
     "output_type": "stream",
     "text": [
      "enter a number5\n",
      "15\n"
     ]
    }
   ],
   "source": [
    "#2) Write a program to accept a number from a user and calculate the sum of all numbers from 1 to a given number\n",
    "x=int(input(\"enter a number\"))\n",
    "a=0\n",
    "for x in range(0,1+x):\n",
    "    a+=x\n",
    "print(a)"
   ]
  },
  {
   "cell_type": "code",
   "execution_count": 3,
   "id": "84799c0f",
   "metadata": {},
   "outputs": [
    {
     "name": "stdout",
     "output_type": "stream",
     "text": [
      "which multiplication table do you want:3\n",
      "how many values do you want:10\n",
      "3*1=3\n",
      "3*2=6\n",
      "3*3=9\n",
      "3*4=12\n",
      "3*5=15\n",
      "3*6=18\n",
      "3*7=21\n",
      "3*8=24\n",
      "3*9=27\n",
      "3*10=30\n"
     ]
    }
   ],
   "source": [
    "#3) Write a program to print multiplication table of a given number(input)\n",
    "table=int(input(\"which multiplication table do you want:\"))\n",
    "value=int(input(\"how many values do you want:\"))\n",
    "for x in range(1,value+1):\n",
    "    print(\"{}*{}={}\".format(table,x,table*x))"
   ]
  },
  {
   "cell_type": "code",
   "execution_count": 4,
   "id": "954a6148",
   "metadata": {},
   "outputs": [
    {
     "name": "stdout",
     "output_type": "stream",
     "text": [
      "enter a string:abcd\n",
      "4\n"
     ]
    }
   ],
   "source": [
    "#4) Write a program to count the total number of digits in a number using a while loop. \n",
    "x=input(\"enter a string:\")\n",
    "y=0\n",
    "while y<len(x):\n",
    "    y+=1\n",
    "print(y)"
   ]
  },
  {
   "cell_type": "code",
   "execution_count": 5,
   "id": "2ea321a8",
   "metadata": {},
   "outputs": [
    {
     "name": "stdout",
     "output_type": "stream",
     "text": [
      "1\n",
      "2\n",
      "Fizz\n",
      "4\n",
      "Buzz\n",
      "Fizz\n",
      "7\n",
      "8\n",
      "Fizz\n",
      "Buzz\n",
      "11\n",
      "Fizz\n",
      "13\n",
      "14\n",
      "FizzBuzz\n",
      "16\n",
      "17\n",
      "Fizz\n",
      "19\n",
      "Buzz\n",
      "Fizz\n",
      "22\n",
      "23\n",
      "Fizz\n",
      "Buzz\n",
      "26\n",
      "Fizz\n",
      "28\n",
      "29\n",
      "FizzBuzz\n",
      "31\n",
      "32\n",
      "Fizz\n",
      "34\n",
      "Buzz\n",
      "Fizz\n",
      "37\n",
      "38\n",
      "Fizz\n",
      "Buzz\n",
      "41\n",
      "Fizz\n",
      "43\n",
      "44\n",
      "FizzBuzz\n",
      "46\n",
      "47\n",
      "Fizz\n",
      "49\n",
      "Buzz\n",
      "Fizz\n",
      "52\n",
      "53\n",
      "Fizz\n",
      "Buzz\n",
      "56\n",
      "Fizz\n",
      "58\n",
      "59\n",
      "FizzBuzz\n"
     ]
    }
   ],
   "source": [
    "#6) Write a Python program which iterates the integers from 1 to 60. For multiples of three print \"Fizz\" instead of the   number and for the multiples of five print \"Buzz\". For numbers which are multiples of both three and five print  \"FizzBuzz\".\n",
    "x=1\n",
    "while x<=60:\n",
    "    if  x%3==0 and x%5==0:\n",
    "        print(\"FizzBuzz\")\n",
    "    elif x%5==0:\n",
    "        print(\"Buzz\")\n",
    "    elif x%3==0:\n",
    "        print(\"Fizz\")\n",
    "    else:\n",
    "        print(x)\n",
    "    x=x+1\n",
    "        "
   ]
  },
  {
   "cell_type": "code",
   "execution_count": 6,
   "id": "05f53caa",
   "metadata": {},
   "outputs": [
    {
     "name": "stdout",
     "output_type": "stream",
     "text": [
      "enter a string:abcd1\n",
      "letters: 4 \n",
      " digits: 1\n"
     ]
    }
   ],
   "source": [
    "#7) Write a Python program that accepts a string and calculate the number of digits and letters\n",
    "x=input(\"enter a string:\")\n",
    "y=0\n",
    "count=0\n",
    "for z in range(0,len(x)):\n",
    "    if x[z].isalpha():\n",
    "        y+=1\n",
    "    else:  \n",
    "        x[z].isdigit()\n",
    "        count+=1\n",
    "print(\"letters:\",y,\"\\n\",\"digits:\",count)"
   ]
  },
  {
   "cell_type": "code",
   "execution_count": 7,
   "id": "6960d8b0",
   "metadata": {},
   "outputs": [
    {
     "name": "stdout",
     "output_type": "stream",
     "text": [
      "enter a password:Innomatics123\n",
      "valid password\n"
     ]
    }
   ],
   "source": [
    "#8) Write a Python program to check the validity of password input by users. Validation: At least 1 letter between [a-z] and 1 letter between [A-Z]. At least 1 number between [0-9]. At least 1 character from [$#@]. Minimum length 6 characters. Maximum length 16 characters.\n",
    "x=input(\"enter a password:\")\n",
    "for y in range(0,len(x)):\n",
    "    if x[y].islower() and x[y].isupper() and x[y].isdigit() and x[y]==\"$\" or x[y]==\"#\" or x[y]==\"@\":\n",
    "        a+=1\n",
    "    else:\n",
    "        break\n",
    "if 6<=len(x)<=16:\n",
    "    print(\"valid password\")\n",
    "else:\n",
    "    print(\"invalid password\")"
   ]
  },
  {
   "cell_type": "code",
   "execution_count": 8,
   "id": "88b8fd22",
   "metadata": {},
   "outputs": [
    {
     "name": "stdout",
     "output_type": "stream",
     "text": [
      "enter a string: abcd\n",
      "dcba\n"
     ]
    }
   ],
   "source": [
    "#9) Write a program in Python to reverse a word by using while loop\n",
    "x=input(\"enter a string: \")\n",
    "b=\"\"\n",
    "y=1\n",
    "while y<len(x)+1:\n",
    "    b+=x[-y]\n",
    "    y+=1\n",
    "print(b)\n"
   ]
  },
  {
   "cell_type": "code",
   "execution_count": 11,
   "id": "ec2d9e2c",
   "metadata": {},
   "outputs": [
    {
     "name": "stdout",
     "output_type": "stream",
     "text": [
      "enter a number:2\n",
      "enter a number:2\n",
      "enter a number:2\n",
      "enter a number:2\n",
      "enter a number:2\n",
      "enter a number:2\n",
      "enter a number:2\n",
      "enter a number:2\n",
      "enter a number:2\n",
      "enter a number:2\n",
      "average: 1.9999999999999998\n"
     ]
    }
   ],
   "source": [
    "## 10) Write a program which takes 10 integers as input using loop and print their average value on the screen\n",
    "avg=0\n",
    "for y in range (0,10):\n",
    "    x=int(input(\"enter a number:\"))\n",
    "    avg+=x/10\n",
    "print(\"average:\",avg)"
   ]
  },
  {
   "cell_type": "code",
   "execution_count": 13,
   "id": "cd78f13d",
   "metadata": {},
   "outputs": [
    {
     "name": "stdout",
     "output_type": "stream",
     "text": [
      "Give a Number:1243\n",
      "If you want to quit 'q': q\n",
      "sum= 1243 \n",
      " product= 1243\n"
     ]
    }
   ],
   "source": [
    "# 11) Write a program which takes integer inputs from user until he/she presses “q” (Ask to press q to quit after every integer input). Print average and product of all numbers.\n",
    "a=\"\"\n",
    "x=0;y=1\n",
    "while not(a=='q'):\n",
    "    b=int(input(\"Give a Number:\"))\n",
    "    x+=b\n",
    "    y*=b\n",
    "    a=input(\"If you want to quit 'q': \")\n",
    "print(\"sum=\",x,\"\\n\",\"product=\",y)"
   ]
  },
  {
   "cell_type": "code",
   "execution_count": 14,
   "id": "5a3969e7",
   "metadata": {},
   "outputs": [
    {
     "name": "stdout",
     "output_type": "stream",
     "text": [
      "20\n"
     ]
    }
   ],
   "source": [
    "#13) Write a python program to find the sum of all even numbers from 0 to 10\n",
    "sum1=0\n",
    "for y in range(0,10):\n",
    "    if y%2==0:\n",
    "        sum1=sum1+y\n",
    "    else:\n",
    "        continue\n",
    "print(sum1) "
   ]
  },
  {
   "cell_type": "code",
   "execution_count": 15,
   "id": "c75fe68b",
   "metadata": {},
   "outputs": [
    {
     "name": "stdout",
     "output_type": "stream",
     "text": [
      "enter a digit:4\n",
      "3\n",
      "2\n",
      "1\n",
      "0\n"
     ]
    }
   ],
   "source": [
    "#14) Write a python program which will accept a digit and print All the numbers before it till 0\n",
    "x=int(input(\"enter a digit:\"))\n",
    "for z in range(x-1,-1,-1):\n",
    "     print(z)"
   ]
  }
 ],
 "metadata": {
  "kernelspec": {
   "display_name": "Python 3 (ipykernel)",
   "language": "python",
   "name": "python3"
  },
  "language_info": {
   "codemirror_mode": {
    "name": "ipython",
    "version": 3
   },
   "file_extension": ".py",
   "mimetype": "text/x-python",
   "name": "python",
   "nbconvert_exporter": "python",
   "pygments_lexer": "ipython3",
   "version": "3.10.9"
  }
 },
 "nbformat": 4,
 "nbformat_minor": 5
}
