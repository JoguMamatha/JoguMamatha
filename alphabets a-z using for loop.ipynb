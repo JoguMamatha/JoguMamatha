{
 "cells": [
  {
   "cell_type": "markdown",
   "id": "54129a21",
   "metadata": {},
   "source": [
    "# python program to print lower case alphabets (a-z) with for loop"
   ]
  },
  {
   "cell_type": "code",
   "execution_count": 3,
   "id": "f6890f7c",
   "metadata": {},
   "outputs": [
    {
     "name": "stdout",
     "output_type": "stream",
     "text": [
      "* * *\n",
      "*   *\n",
      "* * * * *\n"
     ]
    }
   ],
   "source": [
    "\n",
    "for y in range(1,4):\n",
    "    if y==1:\n",
    "        print(\"* * *\")\n",
    "    elif y==2:\n",
    "        print(\"*   *\")\n",
    "    else:\n",
    "        print(\"* * * * *\")"
   ]
  },
  {
   "cell_type": "code",
   "execution_count": 6,
   "id": "18c020f7",
   "metadata": {},
   "outputs": [
    {
     "name": "stdout",
     "output_type": "stream",
     "text": [
      "*    \n",
      "*    \n",
      "* * *\n",
      "*   *\n",
      "* * *\n"
     ]
    }
   ],
   "source": [
    "for y in range(1,6):\n",
    "    if y==1 or y==2:\n",
    "        print(\"*    \")\n",
    "    elif y==3 or y==5:\n",
    "        print(\"* * *\")\n",
    "    else:\n",
    "        print(\"*   *\")\n",
    "    "
   ]
  },
  {
   "cell_type": "code",
   "execution_count": 7,
   "id": "153dbeba",
   "metadata": {},
   "outputs": [
    {
     "name": "stdout",
     "output_type": "stream",
     "text": [
      "* * *\n",
      "*    \n",
      "* * *\n"
     ]
    }
   ],
   "source": [
    "for y in range(1,4):\n",
    "    if y==1 or y==3:\n",
    "        print(\"* * *\")\n",
    "    else:\n",
    "        print(\"*    \")"
   ]
  },
  {
   "cell_type": "code",
   "execution_count": 8,
   "id": "5f62818d",
   "metadata": {},
   "outputs": [
    {
     "name": "stdout",
     "output_type": "stream",
     "text": [
      "    *\n",
      "    *\n",
      "* * *\n",
      "*   *\n",
      "* * *\n"
     ]
    }
   ],
   "source": [
    "for y in range(1,6):\n",
    "    if y==1 or y==2:\n",
    "        print(\"    *\")\n",
    "    elif y==3 or y==5:\n",
    "        print(\"* * *\")\n",
    "    else:\n",
    "        print(\"*   *\")"
   ]
  },
  {
   "cell_type": "code",
   "execution_count": 11,
   "id": "b8532bfb",
   "metadata": {},
   "outputs": [
    {
     "name": "stdout",
     "output_type": "stream",
     "text": [
      " * * *\n",
      "*    *\n",
      "* * * \n",
      "*    \n",
      " * * *\n"
     ]
    }
   ],
   "source": [
    "for y in range(1,6):\n",
    "    if y==1:\n",
    "        print(\" * * *\")\n",
    "    elif y==2:\n",
    "        print(\"*    *\")\n",
    "    elif y==3:\n",
    "        print(\"* * * \")\n",
    "    elif y==4:\n",
    "        print(\"*    \")\n",
    "    else:\n",
    "        print(\" * * *\")"
   ]
  },
  {
   "cell_type": "code",
   "execution_count": 12,
   "id": "f97a472e",
   "metadata": {},
   "outputs": [
    {
     "name": "stdout",
     "output_type": "stream",
     "text": [
      "  *  *\n",
      "  *   \n",
      "* *  *\n",
      "  *   \n",
      "  *   \n"
     ]
    }
   ],
   "source": [
    "for y in range(1,6):\n",
    "    if y==1:\n",
    "        print(\"  *  *\")\n",
    "    elif y==2 or y==4 or y==5:\n",
    "        print(\"  *   \")\n",
    "    else:\n",
    "        print(\"* *  *\")"
   ]
  },
  {
   "cell_type": "code",
   "execution_count": 13,
   "id": "949622e2",
   "metadata": {},
   "outputs": [
    {
     "name": "stdout",
     "output_type": "stream",
     "text": [
      "* * *\n",
      "*   *\n",
      "* * *\n",
      "    *\n",
      "* * *\n"
     ]
    }
   ],
   "source": [
    "for y in range(1,6):\n",
    "    if y==1 or y==3 or y==5:\n",
    "        print(\"* * *\")\n",
    "    elif y==2:\n",
    "        print(\"*   *\")\n",
    "    else:\n",
    "        print(\"    *\")"
   ]
  },
  {
   "cell_type": "code",
   "execution_count": 15,
   "id": "e13b9e19",
   "metadata": {},
   "outputs": [
    {
     "name": "stdout",
     "output_type": "stream",
     "text": [
      "*    \n",
      "*    \n",
      "* * *\n",
      "*   *\n",
      "*   *\n"
     ]
    }
   ],
   "source": [
    "for y in range (1,6):\n",
    "    if y==1 or y==2:\n",
    "        print(\"*    \")\n",
    "    elif y==4 or y==5:\n",
    "        print(\"*   *\")\n",
    "    else:\n",
    "        print(\"* * *\")"
   ]
  },
  {
   "cell_type": "code",
   "execution_count": 17,
   "id": "4a109e2f",
   "metadata": {},
   "outputs": [
    {
     "name": "stdout",
     "output_type": "stream",
     "text": [
      "  *  \n",
      " \n",
      "  *  \n",
      "  *  \n",
      "  *  \n"
     ]
    }
   ],
   "source": [
    "for y in range (1,6):\n",
    "    if y==1 or y==3 or y==4 or y==5:\n",
    "        print(\"  *  \")\n",
    "    else:\n",
    "        print(\" \")"
   ]
  },
  {
   "cell_type": "code",
   "execution_count": 20,
   "id": "a2b90156",
   "metadata": {},
   "outputs": [
    {
     "name": "stdout",
     "output_type": "stream",
     "text": [
      "    *   \n",
      "    *   \n",
      "    *   \n",
      "    *   \n",
      "  * *   \n",
      "   **   \n"
     ]
    }
   ],
   "source": [
    "for x in range(1,7):\n",
    "    if x==1:\n",
    "        print(\"    *   \")\n",
    "    elif x==2 or x==3 or x==4:\n",
    "        print(\"    *   \")\n",
    "    elif x==5:\n",
    "        print(\"  * *   \")\n",
    "    else:\n",
    "        print(\"   **   \")"
   ]
  },
  {
   "cell_type": "code",
   "execution_count": 24,
   "id": "402add64",
   "metadata": {},
   "outputs": [
    {
     "name": "stdout",
     "output_type": "stream",
     "text": [
      "*\n",
      "*\n",
      "*  *\n",
      "**\n",
      "*  *\n"
     ]
    }
   ],
   "source": [
    "for x in range(1,6):\n",
    "    if x==1  or x==2:\n",
    "        print(\"*\")\n",
    "    elif x==3 or x==5 :\n",
    "        print(\"*  *\")\n",
    "    else:\n",
    "        print(\"**\")"
   ]
  },
  {
   "cell_type": "code",
   "execution_count": 26,
   "id": "7bb29c28",
   "metadata": {},
   "outputs": [
    {
     "name": "stdout",
     "output_type": "stream",
     "text": [
      " * \n",
      " * \n",
      " * \n",
      " * \n",
      "* * \n"
     ]
    }
   ],
   "source": [
    "for x in range(1,6):\n",
    "    if x==1 or x==2 or x==3 or x==4:\n",
    "        print(\" * \")\n",
    "    else:\n",
    "            print(\"* * \")"
   ]
  },
  {
   "cell_type": "code",
   "execution_count": 31,
   "id": "5c4be74c",
   "metadata": {},
   "outputs": [
    {
     "name": "stdout",
     "output_type": "stream",
     "text": [
      "*  *   *\n",
      "  *  *  *\n",
      "  *  *  *\n",
      "  *  *  *\n",
      "  *  *  *\n"
     ]
    }
   ],
   "source": [
    "for x in range(1,6):\n",
    "    if  x==1:\n",
    "            print(\"*  *   *\")\n",
    "    else:\n",
    "        print(\"  *  *  *\")"
   ]
  },
  {
   "cell_type": "code",
   "execution_count": 33,
   "id": "e045b8bb",
   "metadata": {},
   "outputs": [
    {
     "name": "stdout",
     "output_type": "stream",
     "text": [
      "*   *  *\n",
      "  *     *\n",
      "  *     *\n",
      "  *     *\n",
      "  *     *\n"
     ]
    }
   ],
   "source": [
    "for i in range (1,6):\n",
    "    if i==1:\n",
    "        print(\"*   *  *\")\n",
    "    else:\n",
    "        print(\"  *     *\")"
   ]
  },
  {
   "cell_type": "code",
   "execution_count": 35,
   "id": "5bfedc34",
   "metadata": {},
   "outputs": [
    {
     "name": "stdout",
     "output_type": "stream",
     "text": [
      " *  *  *\n",
      "*       *\n",
      "*       *\n",
      "*       *\n",
      " *  *  *\n"
     ]
    }
   ],
   "source": [
    "for i in range (1,6):\n",
    "    if i==1 or i==5:\n",
    "        print(\" *  *  *\")\n",
    "    else:\n",
    "        print(\"*       *\")"
   ]
  },
  {
   "cell_type": "code",
   "execution_count": 36,
   "id": "c09f2454",
   "metadata": {},
   "outputs": [
    {
     "name": "stdout",
     "output_type": "stream",
     "text": [
      "*\n",
      "*  *  *\n",
      "*     *\n",
      "*  *  *\n",
      "*\n",
      "*\n"
     ]
    }
   ],
   "source": [
    "for i in range (1,7):\n",
    "    if i==1 or i==5 or i==6:\n",
    "         print(\"*\")\n",
    "    elif i==3:\n",
    "        print(\"*     *\")\n",
    "    else:\n",
    "         print(\"*  *  *\")"
   ]
  },
  {
   "cell_type": "code",
   "execution_count": 37,
   "id": "7954e4ae",
   "metadata": {},
   "outputs": [
    {
     "name": "stdout",
     "output_type": "stream",
     "text": [
      " *  *\n",
      "*    *\n",
      " *  *\n",
      "     *   *\n",
      "      * *\n",
      "       *\n"
     ]
    }
   ],
   "source": [
    "for i in range (1,7):\n",
    "    if i==1 or i==3:\n",
    "         print(\" *  *\")\n",
    "    elif i==2:\n",
    "        print(\"*    *\")\n",
    "    elif i==4:\n",
    "        print(\"     *   *\")\n",
    "    elif i==5:\n",
    "        print(\"      * *\")\n",
    "    else:\n",
    "        print(\"       *\")"
   ]
  },
  {
   "cell_type": "code",
   "execution_count": 39,
   "id": "5dbe4f61",
   "metadata": {},
   "outputs": [
    {
     "name": "stdout",
     "output_type": "stream",
     "text": [
      "*    *\n",
      "  *\n",
      " * *\n",
      " * *\n",
      " * *\n",
      "  *\n"
     ]
    }
   ],
   "source": [
    "for x in range (1,7):\n",
    "    if x==1:\n",
    "        print(\"*    *\")\n",
    "    elif x==2 or x==6:\n",
    "        print(\"  *\")\n",
    "    else:\n",
    "        print(\" * *\")"
   ]
  },
  {
   "cell_type": "code",
   "execution_count": 40,
   "id": "070c56b6",
   "metadata": {},
   "outputs": [
    {
     "name": "stdout",
     "output_type": "stream",
     "text": [
      "*  *  *\n",
      "*     *\n",
      "  *\n",
      "    *\n",
      "      *\n",
      "*     *\n",
      "*  *  *\n"
     ]
    }
   ],
   "source": [
    "for x in range (1,8):\n",
    "    if x==7 or x==1:\n",
    "        print(\"*  *  *\")\n",
    "    elif x==2 or x==6:\n",
    "        print(\"*     *\")\n",
    "    elif x==3:\n",
    "         print(\"  *\")\n",
    "    elif x==4:\n",
    "         print(\"    *\")\n",
    "    else:\n",
    "         print(\"      *\")\n",
    "    "
   ]
  },
  {
   "cell_type": "code",
   "execution_count": 42,
   "id": "614de34e",
   "metadata": {},
   "outputs": [
    {
     "name": "stdout",
     "output_type": "stream",
     "text": [
      "  *\n",
      "* * *\n",
      "  *\n",
      "  *\n",
      "  *  *\n",
      "   **\n"
     ]
    }
   ],
   "source": [
    " for x in range(1,7):\n",
    "        if x==1 or x==3 or x==4:\n",
    "            print(\"  *\")\n",
    "        elif x==2:\n",
    "            print(\"* * *\")\n",
    "        elif x==5:\n",
    "            print(\"  *  *\")\n",
    "        else:\n",
    "             print(\"   **\")"
   ]
  },
  {
   "cell_type": "code",
   "execution_count": 43,
   "id": "d7abfc8a",
   "metadata": {},
   "outputs": [
    {
     "name": "stdout",
     "output_type": "stream",
     "text": [
      "  *     *\n",
      "  *     *\n",
      "  *     *\n",
      "  *     *\n",
      "  *     *\n",
      "   *  *  *\n"
     ]
    }
   ],
   "source": [
    "  for x in range(1,7):\n",
    "        if x==5 or x==4 or x==3 or x==2 or x==1:\n",
    "            print(\"  *     *\")\n",
    "        else:\n",
    "            print(\"   *  *  *\")"
   ]
  },
  {
   "cell_type": "code",
   "execution_count": 44,
   "id": "bfe94e42",
   "metadata": {},
   "outputs": [
    {
     "name": "stdout",
     "output_type": "stream",
     "text": [
      "*   *\n",
      " * *\n",
      "  *\n"
     ]
    }
   ],
   "source": [
    "for x in range(0,3):\n",
    "    if x==0:\n",
    "        print(\"*   *\")\n",
    "    elif x==1:\n",
    "        print(\" * *\")\n",
    "    else:\n",
    "        print(\"  *\")"
   ]
  },
  {
   "cell_type": "code",
   "execution_count": 49,
   "id": "3ea5e5bd",
   "metadata": {},
   "outputs": [
    {
     "name": "stdout",
     "output_type": "stream",
     "text": [
      "  *     *    *\n",
      "  *     *    *\n",
      "  *     *    *\n",
      "  *     *    *\n",
      "  *     *    *\n",
      "   *  *  *  *\n"
     ]
    }
   ],
   "source": [
    "for x in range(1,7):\n",
    "        if x==5 or x==4 or x==3 or x==2 or x==1:\n",
    "            print(\"  *     *    *\")\n",
    "        else:\n",
    "            print(\"   *  *  *  *\")"
   ]
  },
  {
   "cell_type": "code",
   "execution_count": 51,
   "id": "f531f0a0",
   "metadata": {},
   "outputs": [
    {
     "name": "stdout",
     "output_type": "stream",
     "text": [
      "*   *\n",
      " * *\n",
      "  *\n",
      " * *\n",
      "*   *\n"
     ]
    }
   ],
   "source": [
    "for x in range(0,5):\n",
    "    if x==0 or x==4:\n",
    "        print(\"*   *\")\n",
    "    elif x==1 or x==3:\n",
    "        print(\" * *\")\n",
    "    else:\n",
    "        print(\"  *\")"
   ]
  },
  {
   "cell_type": "code",
   "execution_count": 45,
   "id": "2d5629ec",
   "metadata": {},
   "outputs": [
    {
     "name": "stdout",
     "output_type": "stream",
     "text": [
      "*   *\n",
      "*   *\n",
      "* * *\n",
      "    *\n",
      "*   *\n",
      " * *\n"
     ]
    }
   ],
   "source": [
    "for x in range(0,6):\n",
    "    if x==0 or x==4 or x==1:\n",
    "        print(\"*   *\")\n",
    "    elif x==2:\n",
    "        print(\"* * *\")\n",
    "    elif x==3:\n",
    "        print(\"    *\")\n",
    "    else:\n",
    "        print(\" * *\")"
   ]
  },
  {
   "cell_type": "code",
   "execution_count": 46,
   "id": "448d452a",
   "metadata": {},
   "outputs": [
    {
     "name": "stdout",
     "output_type": "stream",
     "text": [
      "* * *\n",
      "    *\n",
      "  *\n",
      " *\n",
      "*\n",
      "* * *\n"
     ]
    }
   ],
   "source": [
    "for x in range (0,6):\n",
    "    if x==0 or x==5:\n",
    "        print(\"* * *\")\n",
    "    elif x==1 :\n",
    "        print(\"    *\")\n",
    "    elif x==2:\n",
    "        print(\"  *\")\n",
    "    elif x==3:\n",
    "        print(\" *\")\n",
    "    elif x==4:\n",
    "        print(\"*\")\n",
    "    else:\n",
    "        print(\"  *\")"
   ]
  }
 ],
 "metadata": {
  "kernelspec": {
   "display_name": "Python 3 (ipykernel)",
   "language": "python",
   "name": "python3"
  },
  "language_info": {
   "codemirror_mode": {
    "name": "ipython",
    "version": 3
   },
   "file_extension": ".py",
   "mimetype": "text/x-python",
   "name": "python",
   "nbconvert_exporter": "python",
   "pygments_lexer": "ipython3",
   "version": "3.10.9"
  }
 },
 "nbformat": 4,
 "nbformat_minor": 5
}
