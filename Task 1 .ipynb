{
 "cells": [
  {
   "cell_type": "code",
   "execution_count": 3,
   "id": "644b8daa",
   "metadata": {},
   "outputs": [
    {
     "name": "stdout",
     "output_type": "stream",
     "text": [
      "enter a string: AMMU\n",
      "ammu\n"
     ]
    }
   ],
   "source": [
    "# write a python program to convert a string to lower case.\n",
    "x=input(\"enter a string: \")\n",
    "for y in x:\n",
    "    x=x.lower()\n",
    "print(x)   "
   ]
  },
  {
   "cell_type": "code",
   "execution_count": 4,
   "id": "4aa9b510",
   "metadata": {},
   "outputs": [
    {
     "name": "stdout",
     "output_type": "stream",
     "text": [
      "enter a word to convert odd index letters to lower case : AMmULu\n",
      "AmmuLu\n"
     ]
    }
   ],
   "source": [
    "# write a python program to convert only odd indexed character to lower case.\n",
    "a=input(\"enter a word to convert odd index letters to lower case : \")\n",
    "y=list(a)\n",
    "b=\"\"\n",
    "for x in range(0,len(a)):\n",
    "    if x%2==0:\n",
    "        b+=str(a[x])\n",
    "    else :\n",
    "            b+=str(a[x]).lower()\n",
    "print (b)    "
   ]
  },
  {
   "cell_type": "code",
   "execution_count": 5,
   "id": "ff7e1f9a",
   "metadata": {},
   "outputs": [
    {
     "name": "stdout",
     "output_type": "stream",
     "text": [
      "enter a word to convert even index letters to lower case : AmUl\n",
      "amul\n"
     ]
    }
   ],
   "source": [
    "# write a python program to convert only even index characters to lower case\n",
    "a=input(\"enter a word to convert even index letters to lower case : \")\n",
    "y=list(a)\n",
    "b=\"\"\n",
    "for x in range(0,len(a)):\n",
    "    if x%2==0:\n",
    "        b+=str(a[x]).lower()\n",
    "    else :\n",
    "            b+=str(a[x])\n",
    "print (b)       "
   ]
  },
  {
   "cell_type": "code",
   "execution_count": null,
   "id": "66c6525c",
   "metadata": {},
   "outputs": [],
   "source": [
    "# write a python program to convert only odd index characters to upper case\n",
    "a=input(\"enter a word to convert odd index letters to upper case : \")\n",
    "y=list(a)\n",
    "b=\"\"\n",
    "for x in range(0,len(a)):\n",
    "    if x%2==0:\n",
    "        b+=str(a[x])\n",
    "    else :\n",
    "            b+=str(a[x]).upper()\n",
    "print (b)       "
   ]
  },
  {
   "cell_type": "code",
   "execution_count": 1,
   "id": "723eff0c",
   "metadata": {},
   "outputs": [
    {
     "name": "stdout",
     "output_type": "stream",
     "text": [
      "enter a word to convert even index letters to upper case : manasa\n",
      "MaNaSa\n"
     ]
    }
   ],
   "source": [
    "# write a python program to convert only even index characters to upper case\n",
    "a=input(\"enter a word to convert even index letters to upper case : \")\n",
    "y=list(a)\n",
    "b=\"\"\n",
    "for x in range(0,len(a)):\n",
    "    if x%2==0:\n",
    "        b+=str(a[x]).upper()\n",
    "    else :\n",
    "            b+=str(a[x])\n",
    "print (b)      "
   ]
  },
  {
   "cell_type": "code",
   "execution_count": 3,
   "id": "70fd8167",
   "metadata": {},
   "outputs": [
    {
     "name": "stdout",
     "output_type": "stream",
     "text": [
      "enter your name : manaswini\n",
      "enter your gender : female\n",
      "enter your age : 23\n",
      "enter your phone no. : 64529273\n",
      "enter your father name : mohan\n",
      "enter your mother name : manugna\n",
      "my full name is manaswini \n",
      " my age is 23\n",
      " my gender isfemale \n",
      " my height is 64529273 \n",
      " my weight is mohan \n",
      " my phone is manugna \n"
     ]
    }
   ],
   "source": [
    "# Write a python program where you have different variable which contains your name, gender,age, phone no ,fathers name and mothers name.And by using this variable create a variable named bio-data where you will use all this variable \n",
    "name = input (\"enter your name : \")\n",
    "gender = input(\"enter your gender : \")\n",
    "age = input(\"enter your age : \")\n",
    "phone_no = input(\"enter your phone no. : \")\n",
    "father_name = input(\"enter your father name : \")\n",
    "mother_name = input(\"enter your mother name : \")\n",
    "\n",
    "bio_data = \"\"\n",
    "variables = [name, gender, age, phone_no, father_name, mother_name]\n",
    "\n",
    "for variable in variables:\n",
    "    bio_data += str(variable) + \" \"\n",
    "    bio_data=\"my full name is {} \\n my age is {}\\n my gender is{} \\n my height is {} \\n my weight is {} \\n my phone is {} \"\n",
    "print(bio_data.format(name ,age ,gender,phone_no,father_name,mother_name))"
   ]
  },
  {
   "cell_type": "code",
   "execution_count": 4,
   "id": "2f4db2b0",
   "metadata": {},
   "outputs": [
    {
     "name": "stdout",
     "output_type": "stream",
     "text": [
      "enter string : @@@Innomatics@@\n",
      "5\n"
     ]
    }
   ],
   "source": [
    "# Write a python program to count how many times “@” occurred\n",
    "x=input(\"enter string : \")\n",
    "print(x.count(\"@\"))"
   ]
  },
  {
   "cell_type": "code",
   "execution_count": 5,
   "id": "02018597",
   "metadata": {},
   "outputs": [
    {
     "name": "stdout",
     "output_type": "stream",
     "text": [
      "manu,ammu,radha\n"
     ]
    }
   ],
   "source": [
    "# Write a python program to get only names from the string\n",
    "x=\"manu.@gmail.com,ammu.@gmail.com,radha.@gmail.com\"\n",
    "y= x.split(\".@gmail.com\")\n",
    "a=\"\"\n",
    "for z in range(0,len(y)):\n",
    "    a+=y[z]\n",
    "print(a)     "
   ]
  },
  {
   "cell_type": "code",
   "execution_count": 6,
   "id": "14b21f70",
   "metadata": {},
   "outputs": [
    {
     "name": "stdout",
     "output_type": "stream",
     "text": [
      "Give a string with odd length: Manas\n",
      "2\n",
      "ana\n"
     ]
    }
   ],
   "source": [
    "# Given a string of odd length greater that 9, return a new string made of the middle three characters of a given String\n",
    "#Ex:- “mynameissan\n",
    "x=input(\"Give a string with odd length: \")\n",
    "y=len(x)//2                                        # len(x)=5\n",
    "print(y)                                           #5//2=2\n",
    "print(x[y-1:y+2])"
   ]
  },
  {
   "cell_type": "code",
   "execution_count": 7,
   "id": "43e479e4",
   "metadata": {},
   "outputs": [
    {
     "name": "stdout",
     "output_type": "stream",
     "text": [
      "Give a string: Mango\n",
      "Give the string that is to be inserted: aa\n",
      "Maaango\n"
     ]
    }
   ],
   "source": [
    "# Write a python program to insert a 2 string in the middle of 1 string\n",
    "x=input(\"Give a string: \")\n",
    "y=input(\"Give the string that is to be inserted: \")\n",
    "a=len(x)//2\n",
    "print(x[:a]+y+x[a:])"
   ]
  },
  {
   "cell_type": "code",
   "execution_count": 8,
   "id": "ca8d5316",
   "metadata": {},
   "outputs": [
    {
     "name": "stdout",
     "output_type": "stream",
     "text": [
      "give a string: Amani\n",
      "mn\n"
     ]
    }
   ],
   "source": [
    "# Write a program to remove vowels from the entire alphabets \n",
    "x=input(\"give a string: \")\n",
    "a=\"\"\n",
    "for y in range(0,len(x)):\n",
    "    \n",
    "    if x[y]==\"a\" or x[y]==\"e\" or x[y]==\"i\" or x[y]==\"o\" or x[y]==\"u\" or x[y]==\"A\" or x[y]==\"E\" or x[y]==\"I\" or x[y]==\"O\" or x[y]==\"U\":\n",
    "        a+=\"\"\n",
    "    else:\n",
    "        a+=x[y]\n",
    "print(a)"
   ]
  }
 ],
 "metadata": {
  "kernelspec": {
   "display_name": "Python 3 (ipykernel)",
   "language": "python",
   "name": "python3"
  },
  "language_info": {
   "codemirror_mode": {
    "name": "ipython",
    "version": 3
   },
   "file_extension": ".py",
   "mimetype": "text/x-python",
   "name": "python",
   "nbconvert_exporter": "python",
   "pygments_lexer": "ipython3",
   "version": "3.10.9"
  }
 },
 "nbformat": 4,
 "nbformat_minor": 5
}
